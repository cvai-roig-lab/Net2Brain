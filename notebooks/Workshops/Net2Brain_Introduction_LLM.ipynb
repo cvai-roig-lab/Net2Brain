{
  "cells": [
    {
      "cell_type": "markdown",
      "metadata": {
        "id": "nWzawRYH6oQ_"
      },
      "source": [
        "# Net2Brain: An Introduction to Linear Encoding with Large Language Models (LLMs)"
      ]
    },
    {
      "cell_type": "markdown",
      "metadata": {},
      "source": [
        "<img src=\"data/Net2Brain_Logo_dark.png\" width=\"100%\" />"
      ]
    },
    {
      "cell_type": "markdown",
      "metadata": {
        "id": "dn_2AvR-5ah7"
      },
      "source": [
        "Welcome to Net2Brain, a powerful toolbox designed to facilitate the comparison of human brain activity patterns with the activations of Deep Neural Networks (DNNs). With over 600 pre-trained DNNs available, Net2Brain empowers neuroscientists to explore and analyze the relationships between artificial and biological neural representations.\n",
        "\n",
        "Net2Brain is a collaborative effort between CVAI and Radek Cichy's lab, aimed at providing a user-friendly toolbox for neural research with deep neural networks.\n",
        "\n",
        "Net2Brain offers an all-in-one solution by providing access to over 600 pretrained neural networks, specifically trained for various visual tasks. This extensive collection allows researchers to extract features from a diverse range of models, including pretrained and random architectures. Moreover, Net2Brain offers flexibility by allowing users to integrate their own models, thereby expanding the scope of experiments that can be conducted to evaluate brain responses.\n",
        "\n",
        "One of the primary objectives of Net2Brain is to facilitate the collaboration between neural and AI research. By providing a user-friendly toolbox, we aim to bridge the gap and empower non-computer scientists to leverage the benefits of deep neural networks in their neuroscientific investigations."
      ]
    },
    {
      "cell_type": "markdown",
      "metadata": {},
      "source": [
        "<div style=\"background-color: #3A2F40; padding: 10px; border-radius: 8px;\">\n",
        "    <img src=\"data/Net2Brain_Overview.png\" width=\"100%\" />\n",
        "</div>\n"
      ]
    },
    {
      "cell_type": "markdown",
      "metadata": {},
      "source": [
        "# Net2Brain: Toolbox Overview\n",
        "\n",
        "Net2Brain provides an end-to-end solution for comparing DNN with brain data. It is structured into six key modules:\n",
        "\n",
        "---\n",
        "\n",
        "## 1. **Model Taxonomy**\n",
        "- Helps select models from 600+ DNNs.\n",
        "- Filter by architecture, training tasks, datasets, or training methods.\n",
        "- Search tools for finding relevant models.\n",
        "\n",
        "---\n",
        "\n",
        "## 2. **Dataset Selection**\n",
        "- Loads preprocessed brain data and stimuli.\n",
        "- Includes popular datasets like NSD, THINGS, and Algonauts.\n",
        "- Supports custom datasets and advanced NSD features (e.g., COCO captions, segmentation masks).\n",
        "\n",
        "---\n",
        "\n",
        "## 3. **Feature Extraction**\n",
        "- Extracts internal representations from models or user-provided layers.\n",
        "- Suggests summarizing layers for extraction.\n",
        "- Offers dimensionality reduction (e.g., PCA).\n",
        "\n",
        "---\n",
        "\n",
        "## 4. **RDM Creation**\n",
        "- Creates Representational Dissimilarity Matrices (RDMs) to compare brain and model data.\n",
        "- Supports common distance metrics (Pearson, cosine, etc.).\n",
        "- Optimized for GPU acceleration and large datasets.\n",
        "\n",
        "---\n",
        "\n",
        "## 5. **Evaluation**\n",
        "- **RSA**: Compares RDMs of brain and model data.\n",
        "- **Encoding**: Maps model features to brain responses using linear regression.\n",
        "- Outputs results in standardized formats.\n",
        "\n",
        "---\n",
        "\n",
        "## 6. **Visualization**\n",
        "- Creates publication-ready plots:\n",
        "  - Bar plots for RSA/encoding results.\n",
        "  - Line plots for time series data like EEG.\n",
        "- Supports both detailed and condensed views.\n"
      ]
    },
    {
      "cell_type": "markdown",
      "metadata": {},
      "source": [
        "# Configuration\n",
        "Execute the cell below to install all necessary dependencies"
      ]
    },
    {
      "cell_type": "code",
      "execution_count": null,
      "metadata": {},
      "outputs": [],
      "source": [
        "#!pip install -U git+https://github.com/cvai-roig-lab/Net2Brain"
      ]
    },
    {
      "cell_type": "code",
      "execution_count": 2,
      "metadata": {},
      "outputs": [
        {
          "name": "stderr",
          "output_type": "stream",
          "text": [
            "/Users/domenicbersch/anaconda3/envs/N2B/lib/python3.10/site-packages/torchvision/transforms/functional_tensor.py:5: UserWarning: The torchvision.transforms.functional_tensor module is deprecated in 0.15 and will be **removed in 0.17**. Please don't rely on it. You probably just need to use APIs in torchvision.transforms.functional or in torchvision.transforms.v2.functional.\n",
            "  warnings.warn(\n"
          ]
        }
      ],
      "source": [
        "from net2brain.taxonomy import show_all_architectures\n",
        "from net2brain.taxonomy import show_all_netsets\n",
        "from net2brain.taxonomy import show_taxonomy\n",
        "from net2brain.taxonomy import print_netset_models\n",
        "\n",
        "from net2brain.taxonomy import find_model_like_name\n",
        "from net2brain.taxonomy import find_model_by_dataset\n",
        "from net2brain.taxonomy import find_model_by_training_method\n",
        "from net2brain.taxonomy import find_model_by_visual_task\n",
        "from net2brain.taxonomy import find_model_by_custom\n",
        "\n",
        "from net2brain.utils.download_datasets import DatasetAlgonauts_NSD, Tutorial_LE_Results\n",
        "from pprint import pprint\n",
        "import pandas as pd\n",
        "import os"
      ]
    },
    {
      "cell_type": "markdown",
      "metadata": {
        "id": "UqQdckZHWVR4"
      },
      "source": [
        "\n",
        "\n",
        "---\n",
        "\n",
        "\n",
        "\n",
        "---\n",
        "\n"
      ]
    },
    {
      "cell_type": "markdown",
      "metadata": {
        "id": "Pbm36FteFXql"
      },
      "source": [
        "\n",
        "# Step 0: Exploring the Toolbox - Model Taxonomy"
      ]
    },
    {
      "cell_type": "markdown",
      "metadata": {
        "id": "7TKygwloFdk0"
      },
      "source": [
        "To view a list of all available models along with the information on which netset they belong to, you can use the `print_all_models()` function to print them."
      ]
    },
    {
      "cell_type": "code",
      "execution_count": 9,
      "metadata": {
        "id": "NCgzKdvJyzMQ"
      },
      "outputs": [
        {
          "name": "stdout",
          "output_type": "stream",
          "text": [
            "\n",
            "\n",
            "NetSet: Standard\n",
            "Models: ['AlexNet', 'Densenet121', 'Densenet161', 'Densenet169', 'Densenet201', 'GoogleNet', 'ResNet101', 'ResNet152', 'ResNet18', 'ResNet34', 'ResNet50', 'ShuffleNetV2x05', 'ShuffleNetV2x10', 'Squeezenet1_0', 'Squeezenet1_1', 'VGG11', 'VGG11_bn', 'VGG13', 'VGG13_bn', 'VGG16', 'VGG16_bn', 'VGG19', 'VGG19_bn', 'efficientnet_b0', 'efficientnet_b1', 'efficientnet_b2', 'efficientnet_b3', 'efficientnet_b4', 'efficientnet_b5', 'efficientnet_b6', 'efficientnet_b7', 'mnasnet05', 'mnasnet10', 'mobilenet_v2', 'mobilenet_v3_large', 'mobilenet_v3_small', 'regnet_x_16gf', 'regnet_x_1_6gf', 'regnet_x_32gf', 'regnet_x_3_2gf', 'regnet_x_400mf', 'regnet_x_800mf', 'regnet_x_8gf', 'regnet_y_16gf', 'regnet_y_1_6gf', 'regnet_y_32gf', 'regnet_y_3_2gf', 'regnet_y_400mf', 'regnet_y_800mf', 'regnet_y_8gf', 'resnext101_32x8d', 'resnext50_32x4d', 'wide_resnet101_2', 'wide_resnet50_2']\n",
            "\n",
            "\n",
            "NetSet: Timm\n",
            "Models: ['adv_inception_v3', 'cait_m36_384', 'cait_m48_448', 'cait_s24_224', 'cait_s24_384', 'cait_s36_384', 'cait_xs24_384', 'cait_xxs24_224', 'cait_xxs24_384', 'cait_xxs36_224', 'cait_xxs36_384', 'coat_lite_mini', 'coat_lite_small', 'coat_lite_tiny', 'coat_mini', 'coat_tiny', 'convit_base', 'convit_small', 'convit_tiny', 'cspdarknet53', 'cspresnet50', 'cspresnext50', 'deit_base_distilled_patch16_224', 'deit_base_distilled_patch16_384', 'deit_base_patch16_224', 'deit_base_patch16_384', 'deit_small_distilled_patch16_224', 'deit_small_patch16_224', 'deit_tiny_distilled_patch16_224', 'deit_tiny_patch16_224', 'densenet121', 'densenet161', 'densenet169', 'densenet201', 'densenetblur121d', 'dla34', 'dla46_c', 'dla46x_c', 'dla60', 'dla60_res2net', 'dla60_res2next', 'dla60x', 'dla60x_c', 'dla102', 'dla102x', 'dla102x2', 'dla169', 'dm_nfnet_f0', 'dm_nfnet_f1', 'dm_nfnet_f2', 'dm_nfnet_f3', 'dm_nfnet_f4', 'dm_nfnet_f5', 'dm_nfnet_f6', 'dpn68', 'dpn68b', 'dpn92', 'dpn98', 'dpn107', 'dpn131', 'eca_nfnet_l0', 'eca_nfnet_l1', 'eca_nfnet_l2', 'ecaresnet26t', 'ecaresnet50d', 'ecaresnet50d_pruned', 'ecaresnet50t', 'ecaresnet101d', 'ecaresnet101d_pruned', 'ecaresnet269d', 'ecaresnetlight', 'efficientnet_b0', 'efficientnet_b1', 'efficientnet_b1_pruned', 'efficientnet_b2', 'efficientnet_b2_pruned', 'efficientnet_b3', 'efficientnet_b3_pruned', 'efficientnet_b4', 'efficientnet_el', 'efficientnet_el_pruned', 'efficientnet_em', 'efficientnet_es', 'efficientnet_es_pruned', 'efficientnet_lite0', 'efficientnetv2_rw_m', 'efficientnetv2_rw_s', 'ens_adv_inception_resnet_v2', 'ese_vovnet19b_dw', 'ese_vovnet39b', 'fbnetc_100', 'gernet_l', 'gernet_m', 'gernet_s', 'ghostnet_100', 'gluon_inception_v3', 'gluon_resnet18_v1b', 'gluon_resnet34_v1b', 'gluon_resnet50_v1b', 'gluon_resnet50_v1c', 'gluon_resnet50_v1d', 'gluon_resnet50_v1s', 'gluon_resnet101_v1b', 'gluon_resnet101_v1c', 'gluon_resnet101_v1d', 'gluon_resnet101_v1s', 'gluon_resnet152_v1b', 'gluon_resnet152_v1c', 'gluon_resnet152_v1d', 'gluon_resnet152_v1s', 'gluon_resnext50_32x4d', 'gluon_resnext101_32x4d', 'gluon_resnext101_64x4d', 'gluon_senet154', 'gluon_seresnext50_32x4d', 'gluon_seresnext101_32x4d', 'gluon_seresnext101_64x4d', 'gluon_xception65', 'gmixer_24_224', 'gmlp_s16_224', 'hardcorenas_a', 'hardcorenas_b', 'hardcorenas_c', 'hardcorenas_d', 'hardcorenas_e', 'hardcorenas_f', 'hrnet_w18', 'hrnet_w18_small', 'hrnet_w18_small_v2', 'hrnet_w30', 'hrnet_w32', 'hrnet_w40', 'hrnet_w44', 'hrnet_w48', 'hrnet_w64', 'ig_resnext101_32x8d', 'ig_resnext101_32x16d', 'ig_resnext101_32x32d', 'ig_resnext101_32x48d', 'inception_resnet_v2', 'inception_v3', 'inception_v4', 'legacy_senet154', 'legacy_seresnet18', 'legacy_seresnet34', 'legacy_seresnet50', 'legacy_seresnet101', 'legacy_seresnet152', 'legacy_seresnext26_32x4d', 'legacy_seresnext50_32x4d', 'legacy_seresnext101_32x4d', 'levit_384', 'mixer_b16_224', 'mixer_b16_224_in21k', 'mixer_b16_224_miil', 'mixer_b16_224_miil_in21k', 'mixer_l16_224', 'mixer_l16_224_in21k', 'mixnet_l', 'mixnet_m', 'mixnet_s', 'mixnet_xl', 'mnasnet_100', 'mobilenetv2_100', 'mobilenetv2_110d', 'mobilenetv2_120d', 'mobilenetv2_140', 'mobilenetv3_large_100', 'mobilenetv3_large_100_miil', 'mobilenetv3_large_100_miil_in21k', 'mobilenetv3_rw', 'nasnetalarge', 'nf_regnet_b1', 'nf_resnet50', 'nfnet_l0', 'pit_b_224', 'pit_b_distilled_224', 'pit_s_224', 'pit_s_distilled_224', 'pit_ti_224', 'pit_ti_distilled_224', 'pit_xs_224', 'pit_xs_distilled_224', 'pnasnet5large', 'regnetx_002', 'regnetx_004', 'regnetx_006', 'regnetx_008', 'regnetx_016', 'regnetx_032', 'regnetx_040', 'regnetx_064', 'regnetx_080', 'regnetx_120', 'regnetx_160', 'regnetx_320', 'regnety_002', 'regnety_004', 'regnety_006', 'regnety_008', 'regnety_016', 'regnety_032', 'regnety_040', 'regnety_064', 'regnety_080', 'regnety_120', 'regnety_160', 'regnety_320', 'repvgg_a2', 'repvgg_b0', 'repvgg_b1', 'repvgg_b1g4', 'repvgg_b2', 'repvgg_b2g4', 'repvgg_b3', 'repvgg_b3g4', 'res2net50_14w_8s', 'res2net50_26w_4s', 'res2net50_26w_6s', 'res2net50_26w_8s', 'res2net50_48w_2s', 'res2net101_26w_4s', 'res2next50', 'resmlp_12_224', 'resmlp_12_distilled_224', 'resmlp_24_224', 'resmlp_24_distilled_224', 'resmlp_36_224', 'resmlp_36_distilled_224', 'resmlp_big_24_224', 'resmlp_big_24_224_in22ft1k', 'resmlp_big_24_distilled_224', 'resnet18', 'resnet18d', 'resnet26', 'resnet26d', 'resnet34', 'resnet34d', 'resnet50', 'resnet50d', 'resnet51q', 'resnet101d', 'resnet152d', 'resnet200d', 'resnetblur50', 'resnetrs50', 'resnetrs101', 'resnetrs152', 'resnetrs200', 'resnetrs270', 'resnetrs350', 'resnetrs420', 'resnetv2_50x1_bit_distilled', 'resnetv2_50x1_bitm', 'resnetv2_50x1_bitm_in21k', 'resnetv2_50x3_bitm', 'resnetv2_50x3_bitm_in21k', 'resnetv2_101x1_bitm', 'resnetv2_101x1_bitm_in21k', 'resnetv2_101x3_bitm', 'resnetv2_101x3_bitm_in21k', 'resnetv2_152x2_bit_teacher', 'resnetv2_152x2_bit_teacher_384', 'resnetv2_152x2_bitm', 'resnetv2_152x2_bitm_in21k', 'resnetv2_152x4_bitm', 'resnetv2_152x4_bitm_in21k', 'resnext50_32x4d', 'resnext50d_32x4d', 'resnext101_32x8d', 'selecsls42b', 'selecsls60', 'selecsls60b', 'semnasnet_100', 'seresnet50', 'seresnet152d', 'seresnext26d_32x4d', 'seresnext26t_32x4d', 'seresnext50_32x4d', 'spnasnet_100', 'ssl_resnet18', 'ssl_resnet50', 'ssl_resnext50_32x4d', 'ssl_resnext101_32x4d', 'ssl_resnext101_32x8d', 'ssl_resnext101_32x16d', 'swin_base_patch4_window7_224', 'swin_base_patch4_window7_224_in22k', 'swin_base_patch4_window12_384', 'swin_base_patch4_window12_384_in22k', 'swin_large_patch4_window7_224', 'swin_large_patch4_window7_224_in22k', 'swin_large_patch4_window12_384', 'swin_large_patch4_window12_384_in22k', 'swin_small_patch4_window7_224', 'swin_tiny_patch4_window7_224', 'swsl_resnet18', 'swsl_resnet50', 'swsl_resnext50_32x4d', 'swsl_resnext101_32x4d', 'swsl_resnext101_32x8d', 'swsl_resnext101_32x16d', 'tf_efficientnet_b0', 'tf_efficientnet_b0_ap', 'tf_efficientnet_b0_ns', 'tf_efficientnet_b1', 'tf_efficientnet_b1_ap', 'tf_efficientnet_b1_ns', 'tf_efficientnet_b2', 'tf_efficientnet_b2_ap', 'tf_efficientnet_b2_ns', 'tf_efficientnet_b3', 'tf_efficientnet_b3_ap', 'tf_efficientnet_b3_ns', 'tf_efficientnet_b4', 'tf_efficientnet_b4_ap', 'tf_efficientnet_b4_ns', 'tf_efficientnet_b5', 'tf_efficientnet_b5_ap', 'tf_efficientnet_b5_ns', 'tf_efficientnet_b6', 'tf_efficientnet_b6_ap', 'tf_efficientnet_b6_ns', 'tf_efficientnet_b7', 'tf_efficientnet_b7_ap', 'tf_efficientnet_b7_ns', 'tf_efficientnet_b8', 'tf_efficientnet_b8_ap', 'tf_efficientnet_cc_b0_4e', 'tf_efficientnet_cc_b0_8e', 'tf_efficientnet_cc_b1_8e', 'tf_efficientnet_el', 'tf_efficientnet_em', 'tf_efficientnet_es', 'tf_efficientnet_l2_ns', 'tf_efficientnet_l2_ns_475', 'tf_efficientnet_lite0', 'tf_efficientnet_lite1', 'tf_efficientnet_lite2', 'tf_efficientnet_lite3', 'tf_efficientnet_lite4', 'tf_efficientnetv2_b0', 'tf_efficientnetv2_b1', 'tf_efficientnetv2_b2', 'tf_efficientnetv2_b3', 'tf_efficientnetv2_l', 'tf_efficientnetv2_l_in21ft1k', 'tf_efficientnetv2_l_in21k', 'tf_efficientnetv2_m', 'tf_efficientnetv2_m_in21ft1k', 'tf_efficientnetv2_m_in21k', 'tf_efficientnetv2_s', 'tf_efficientnetv2_s_in21ft1k', 'tf_efficientnetv2_s_in21k', 'tf_inception_v3', 'tf_mixnet_l', 'tf_mixnet_m', 'tf_mixnet_s', 'tf_mobilenetv3_large_075', 'tf_mobilenetv3_large_100', 'tf_mobilenetv3_large_minimal_100', 'tf_mobilenetv3_small_075', 'tf_mobilenetv3_small_100', 'tf_mobilenetv3_small_minimal_100', 'tnt_s_patch16_224', 'tv_densenet121', 'tv_resnet34', 'tv_resnet50', 'tv_resnet101', 'tv_resnet152', 'tv_resnext50_32x4d', 'twins_pcpvt_base', 'twins_pcpvt_large', 'twins_pcpvt_small', 'twins_svt_base', 'twins_svt_large', 'twins_svt_small', 'vgg11', 'vgg11_bn', 'vgg13', 'vgg13_bn', 'vgg16', 'vgg16_bn', 'vgg19', 'vgg19_bn', 'visformer_small', 'vit_base_patch16_224', 'vit_base_patch16_224_in21k', 'vit_base_patch16_224_miil', 'vit_base_patch16_224_miil_in21k', 'vit_base_patch16_384', 'vit_base_patch32_224', 'vit_base_patch32_224_in21k', 'vit_base_patch32_384', 'vit_base_r50_s16_224_in21k', 'vit_base_r50_s16_384', 'vit_huge_patch14_224_in21k', 'vit_large_patch16_224', 'vit_large_patch16_224_in21k', 'vit_large_patch16_384', 'vit_large_patch32_224_in21k', 'vit_large_patch32_384', 'vit_large_r50_s32_224', 'vit_large_r50_s32_224_in21k', 'vit_large_r50_s32_384', 'vit_small_patch16_224', 'vit_small_patch16_224_in21k', 'vit_small_patch16_384', 'vit_small_patch32_224', 'vit_small_patch32_224_in21k', 'vit_small_patch32_384', 'vit_small_r26_s32_224', 'vit_small_r26_s32_224_in21k', 'vit_small_r26_s32_384', 'vit_tiny_patch16_224', 'vit_tiny_patch16_224_in21k', 'vit_tiny_patch16_384', 'vit_tiny_r_s16_p8_224', 'vit_tiny_r_s16_p8_224_in21k', 'vit_tiny_r_s16_p8_384', 'wide_resnet50_2', 'wide_resnet101_2', 'xception', 'xception41', 'xception65', 'xception71']\n",
            "\n",
            "\n",
            "NetSet: Taskonomy\n",
            "Models: ['autoencoding', 'curvature', 'colorization', 'class_object', 'class_scene', 'denoising', 'euclidean', 'depth', 'edge_occlusion', 'edge_texture', 'egomotion', 'fixated_pose', 'inpainting', 'jigsaw', 'keypoints2d', 'keypoints3d', 'nonfixated_pose', 'normal', 'point_matching', 'reshading', 'room_layout', 'segment_unsup2d', 'segment_unsup25d', 'segment_semantic', 'vanishing_point']\n",
            "\n",
            "\n",
            "NetSet: Toolbox\n",
            "Models: ['Places365', 'SceneParsing']\n",
            "\n",
            "\n",
            "NetSet: Pytorch\n",
            "Models: ['deeplabv3_mobilenet_v3_large', 'deeplabv3_resnet101', 'deeplabv3_resnet50', 'fcn_resnet101', 'fcn_resnet50', 'lraspp_mobilenet_v3_large']\n",
            "\n",
            "\n",
            "NetSet: Cornet\n",
            "Models: ['cornet_z', 'cornet_rt', 'cornet_s']\n",
            "\n",
            "\n",
            "NetSet: Unet\n",
            "Models: ['unet']\n",
            "\n",
            "\n",
            "NetSet: Yolo\n",
            "Models: ['yolov5l', 'yolov5l6', 'yolov5m', 'yolov5m6', 'yolov5n', 'yolov5n6', 'yolov5s', 'yolov5s6', 'yolov5x', 'yolov5x6']\n",
            "\n",
            "\n",
            "NetSet: Pyvideo\n",
            "Models: ['slow_r50', 'slowfast_r101', 'slowfast_r50', 'x3d_m', 'x3d_s', 'x3d_xs']\n",
            "\n",
            "\n",
            "NetSet: Huggingface\n",
            "Models: ['albert-base-v2', 'kakaobrain/align-base', 'facebook/bart-base', 'gpt2', 'bert-large-cased-whole-word-masking', 'bert-base-uncased']\n",
            "\n",
            "\n",
            "NetSet: Clip\n",
            "Models: ['RN50', 'RN101', 'ViT-B/32', 'ViT-B/16', 'ViT-L/14']\n",
            "\n",
            "\n"
          ]
        },
        {
          "data": {
            "text/plain": [
              "['Standard',\n",
              " 'Timm',\n",
              " 'Taskonomy',\n",
              " 'Toolbox',\n",
              " 'Pytorch',\n",
              " 'Cornet',\n",
              " 'Unet',\n",
              " 'Yolo',\n",
              " 'Pyvideo',\n",
              " 'Huggingface',\n",
              " 'Clip']"
            ]
          },
          "execution_count": 9,
          "metadata": {},
          "output_type": "execute_result"
        }
      ],
      "source": [
        "show_all_architectures()\n",
        "show_all_netsets()"
      ]
    },
    {
      "cell_type": "markdown",
      "metadata": {
        "id": "SIRFVwUj5tiq"
      },
      "source": [
        "You can also inspect the models available from a particular _netset_ using the function `print_netset_models()`:"
      ]
    },
    {
      "cell_type": "markdown",
      "metadata": {
        "id": "eNrc9U0kToEo"
      },
      "source": [
        "We also offer a comprehensive model taxonomy to help you find the most suitable model for your study. Each model in our toolbox has distinct attributes that cater to various research requirements. To facilitate your selection process, we provide a taxonomic overview of the models available.\n",
        "\n",
        "To see the available attributes, use the show_taxonomy function. You can then search for a model based on one or more attributes using the following functions:\n",
        "\n",
        "- `find_model_like(model_name)`\n",
        "- `find_model_by_dataset(attributes)`\n",
        "- `find_model_by_training_method(attributes)`\n",
        "- `find_model_by_visual_task(attributes)`\n",
        "- `find_model_by_custom([attributes], model_name)`\n",
        "\n",
        "This taxonomy system is designed to help you easily identify and choose the most appropriate model for your research needs."
      ]
    },
    {
      "cell_type": "code",
      "execution_count": 5,
      "metadata": {
        "id": "hO5e2wMlTItN"
      },
      "outputs": [
        {
          "name": "stdout",
          "output_type": "stream",
          "text": [
            "{'Architecture': ['Convolutional Neural Network',\n",
            "                  'Swin-Transformer',\n",
            "                  'Transformer-based Models',\n",
            "                  'MLP-Mixer',\n",
            "                  'Vision Transformer',\n",
            "                  'Multimodal'],\n",
            " 'Pre-Training Dataset': ['Taskonomy',\n",
            "                          'ImageNet',\n",
            "                          'ImageNet 22K',\n",
            "                          'COCO',\n",
            "                          'Places 365',\n",
            "                          'ADEK20K',\n",
            "                          'COYO-700M',\n",
            "                          'LVIS',\n",
            "                          'English Corpus',\n",
            "                          'Cityscapes',\n",
            "                          'PASCAL VOC'],\n",
            " 'Training Method': ['Contrastive Language Image Pre-Training',\n",
            "                     'Supervised',\n",
            "                     'Jigsaw',\n",
            "                     'NPID',\n",
            "                     'RotNet',\n",
            "                     'Clusterfit',\n",
            "                     'Deepcluser',\n",
            "                     'SimCLR',\n",
            "                     'SwAV',\n",
            "                     'MoCo'],\n",
            " 'Visual Task': ['Image Classification',\n",
            "                 'Various visual tasks',\n",
            "                 'Object Detection',\n",
            "                 'Panoptic Segmentation',\n",
            "                 'Semantic Segmentation',\n",
            "                 'Keypoint Detection',\n",
            "                 'Instance Segmentation',\n",
            "                 'Pose Estimation',\n",
            "                 'Video Classification']}\n"
          ]
        }
      ],
      "source": [
        "show_taxonomy()"
      ]
    },
    {
      "cell_type": "markdown",
      "metadata": {
        "id": "RTLc3ybMShcf"
      },
      "source": [
        "Or you can find a model by its name using the function `find_model_like()`:"
      ]
    },
    {
      "cell_type": "code",
      "execution_count": 6,
      "metadata": {
        "id": "9t0J7tIrSerQ"
      },
      "outputs": [
        {
          "data": {
            "text/html": [
              "<div>\n",
              "<style scoped>\n",
              "    .dataframe tbody tr th:only-of-type {\n",
              "        vertical-align: middle;\n",
              "    }\n",
              "\n",
              "    .dataframe tbody tr th {\n",
              "        vertical-align: top;\n",
              "    }\n",
              "\n",
              "    .dataframe thead th {\n",
              "        text-align: right;\n",
              "    }\n",
              "</style>\n",
              "<table border=\"1\" class=\"dataframe\">\n",
              "  <thead>\n",
              "    <tr style=\"text-align: right;\">\n",
              "      <th></th>\n",
              "      <th>Netset</th>\n",
              "      <th>Model</th>\n",
              "      <th>Image Classification</th>\n",
              "      <th>Object Detection</th>\n",
              "      <th>Convolutional Neural Network</th>\n",
              "      <th>ImageNet</th>\n",
              "      <th>Supervised</th>\n",
              "    </tr>\n",
              "  </thead>\n",
              "  <tbody>\n",
              "    <tr>\n",
              "      <th>2</th>\n",
              "      <td>standard</td>\n",
              "      <td>ResNet18</td>\n",
              "      <td>1</td>\n",
              "      <td>0</td>\n",
              "      <td>1</td>\n",
              "      <td>1</td>\n",
              "      <td>1</td>\n",
              "    </tr>\n",
              "    <tr>\n",
              "      <th>3</th>\n",
              "      <td>standard</td>\n",
              "      <td>ResNet34</td>\n",
              "      <td>1</td>\n",
              "      <td>0</td>\n",
              "      <td>1</td>\n",
              "      <td>1</td>\n",
              "      <td>1</td>\n",
              "    </tr>\n",
              "    <tr>\n",
              "      <th>4</th>\n",
              "      <td>standard</td>\n",
              "      <td>ResNet50</td>\n",
              "      <td>1</td>\n",
              "      <td>0</td>\n",
              "      <td>1</td>\n",
              "      <td>1</td>\n",
              "      <td>1</td>\n",
              "    </tr>\n",
              "    <tr>\n",
              "      <th>5</th>\n",
              "      <td>standard</td>\n",
              "      <td>ResNet101</td>\n",
              "      <td>1</td>\n",
              "      <td>0</td>\n",
              "      <td>1</td>\n",
              "      <td>1</td>\n",
              "      <td>1</td>\n",
              "    </tr>\n",
              "    <tr>\n",
              "      <th>6</th>\n",
              "      <td>standard</td>\n",
              "      <td>ResNet152</td>\n",
              "      <td>1</td>\n",
              "      <td>0</td>\n",
              "      <td>1</td>\n",
              "      <td>1</td>\n",
              "      <td>1</td>\n",
              "    </tr>\n",
              "    <tr>\n",
              "      <th>...</th>\n",
              "      <td>...</td>\n",
              "      <td>...</td>\n",
              "      <td>...</td>\n",
              "      <td>...</td>\n",
              "      <td>...</td>\n",
              "      <td>...</td>\n",
              "      <td>...</td>\n",
              "    </tr>\n",
              "    <tr>\n",
              "      <th>478</th>\n",
              "      <td>timm</td>\n",
              "      <td>wide_resnet101_2</td>\n",
              "      <td>1</td>\n",
              "      <td>0</td>\n",
              "      <td>1</td>\n",
              "      <td>0</td>\n",
              "      <td>1</td>\n",
              "    </tr>\n",
              "    <tr>\n",
              "      <th>487</th>\n",
              "      <td>pytorch</td>\n",
              "      <td>deeplabv3_resnet101</td>\n",
              "      <td>1</td>\n",
              "      <td>0</td>\n",
              "      <td>1</td>\n",
              "      <td>1</td>\n",
              "      <td>1</td>\n",
              "    </tr>\n",
              "    <tr>\n",
              "      <th>488</th>\n",
              "      <td>pytorch</td>\n",
              "      <td>deeplabv3_resnet50</td>\n",
              "      <td>1</td>\n",
              "      <td>0</td>\n",
              "      <td>1</td>\n",
              "      <td>1</td>\n",
              "      <td>1</td>\n",
              "    </tr>\n",
              "    <tr>\n",
              "      <th>489</th>\n",
              "      <td>pytorch</td>\n",
              "      <td>fcn_resnet101</td>\n",
              "      <td>1</td>\n",
              "      <td>0</td>\n",
              "      <td>1</td>\n",
              "      <td>1</td>\n",
              "      <td>1</td>\n",
              "    </tr>\n",
              "    <tr>\n",
              "      <th>490</th>\n",
              "      <td>pytorch</td>\n",
              "      <td>fcn_resnet50</td>\n",
              "      <td>1</td>\n",
              "      <td>0</td>\n",
              "      <td>1</td>\n",
              "      <td>1</td>\n",
              "      <td>1</td>\n",
              "    </tr>\n",
              "  </tbody>\n",
              "</table>\n",
              "<p>89 rows × 7 columns</p>\n",
              "</div>"
            ],
            "text/plain": [
              "       Netset                Model Image Classification Object Detection  \\\n",
              "2    standard             ResNet18                    1                0   \n",
              "3    standard             ResNet34                    1                0   \n",
              "4    standard             ResNet50                    1                0   \n",
              "5    standard            ResNet101                    1                0   \n",
              "6    standard            ResNet152                    1                0   \n",
              "..        ...                  ...                  ...              ...   \n",
              "478      timm     wide_resnet101_2                    1                0   \n",
              "487   pytorch  deeplabv3_resnet101                    1                0   \n",
              "488   pytorch   deeplabv3_resnet50                    1                0   \n",
              "489   pytorch        fcn_resnet101                    1                0   \n",
              "490   pytorch         fcn_resnet50                    1                0   \n",
              "\n",
              "    Convolutional Neural Network ImageNet Supervised  \n",
              "2                              1        1          1  \n",
              "3                              1        1          1  \n",
              "4                              1        1          1  \n",
              "5                              1        1          1  \n",
              "6                              1        1          1  \n",
              "..                           ...      ...        ...  \n",
              "478                            1        0          1  \n",
              "487                            1        1          1  \n",
              "488                            1        1          1  \n",
              "489                            1        1          1  \n",
              "490                            1        1          1  \n",
              "\n",
              "[89 rows x 7 columns]"
            ]
          },
          "execution_count": 6,
          "metadata": {},
          "output_type": "execute_result"
        }
      ],
      "source": [
        "find_model_like_name('ResNet')"
      ]
    },
    {
      "cell_type": "markdown",
      "metadata": {
        "id": "tFJtD7dUX5o2"
      },
      "source": [
        "The `find_model_by_dataset(attributes)` function enables you to search for models associated with a specific dataset, such as 'ImageNet', 'ImageNet 22K', or 'COCO'."
      ]
    },
    {
      "cell_type": "code",
      "execution_count": 7,
      "metadata": {
        "id": "ggT2UcQ0SNXs"
      },
      "outputs": [
        {
          "data": {
            "text/html": [
              "<div>\n",
              "<style scoped>\n",
              "    .dataframe tbody tr th:only-of-type {\n",
              "        vertical-align: middle;\n",
              "    }\n",
              "\n",
              "    .dataframe tbody tr th {\n",
              "        vertical-align: top;\n",
              "    }\n",
              "\n",
              "    .dataframe thead th {\n",
              "        text-align: right;\n",
              "    }\n",
              "</style>\n",
              "<table border=\"1\" class=\"dataframe\">\n",
              "  <thead>\n",
              "    <tr style=\"text-align: right;\">\n",
              "      <th></th>\n",
              "      <th>Netset</th>\n",
              "      <th>Model</th>\n",
              "      <th>Various visual tasks</th>\n",
              "      <th>Convolutional Neural Network</th>\n",
              "      <th>Taskonomy</th>\n",
              "      <th>Supervised</th>\n",
              "    </tr>\n",
              "  </thead>\n",
              "  <tbody>\n",
              "    <tr>\n",
              "      <th>493</th>\n",
              "      <td>taskonomy</td>\n",
              "      <td>autoencoding</td>\n",
              "      <td>1</td>\n",
              "      <td>1</td>\n",
              "      <td>1</td>\n",
              "      <td>1</td>\n",
              "    </tr>\n",
              "    <tr>\n",
              "      <th>494</th>\n",
              "      <td>taskonomy</td>\n",
              "      <td>curvature</td>\n",
              "      <td>1</td>\n",
              "      <td>1</td>\n",
              "      <td>1</td>\n",
              "      <td>1</td>\n",
              "    </tr>\n",
              "    <tr>\n",
              "      <th>495</th>\n",
              "      <td>taskonomy</td>\n",
              "      <td>class_object</td>\n",
              "      <td>1</td>\n",
              "      <td>1</td>\n",
              "      <td>1</td>\n",
              "      <td>1</td>\n",
              "    </tr>\n",
              "    <tr>\n",
              "      <th>496</th>\n",
              "      <td>taskonomy</td>\n",
              "      <td>class_scene</td>\n",
              "      <td>1</td>\n",
              "      <td>1</td>\n",
              "      <td>1</td>\n",
              "      <td>1</td>\n",
              "    </tr>\n",
              "    <tr>\n",
              "      <th>497</th>\n",
              "      <td>taskonomy</td>\n",
              "      <td>denoising</td>\n",
              "      <td>1</td>\n",
              "      <td>1</td>\n",
              "      <td>1</td>\n",
              "      <td>1</td>\n",
              "    </tr>\n",
              "    <tr>\n",
              "      <th>498</th>\n",
              "      <td>taskonomy</td>\n",
              "      <td>depth_euclidean</td>\n",
              "      <td>1</td>\n",
              "      <td>1</td>\n",
              "      <td>1</td>\n",
              "      <td>1</td>\n",
              "    </tr>\n",
              "    <tr>\n",
              "      <th>499</th>\n",
              "      <td>taskonomy</td>\n",
              "      <td>edge_occlusion</td>\n",
              "      <td>1</td>\n",
              "      <td>1</td>\n",
              "      <td>1</td>\n",
              "      <td>1</td>\n",
              "    </tr>\n",
              "    <tr>\n",
              "      <th>500</th>\n",
              "      <td>taskonomy</td>\n",
              "      <td>edge_texture</td>\n",
              "      <td>1</td>\n",
              "      <td>1</td>\n",
              "      <td>1</td>\n",
              "      <td>1</td>\n",
              "    </tr>\n",
              "    <tr>\n",
              "      <th>501</th>\n",
              "      <td>taskonomy</td>\n",
              "      <td>egomotion</td>\n",
              "      <td>1</td>\n",
              "      <td>1</td>\n",
              "      <td>1</td>\n",
              "      <td>1</td>\n",
              "    </tr>\n",
              "    <tr>\n",
              "      <th>502</th>\n",
              "      <td>taskonomy</td>\n",
              "      <td>fixated_pose</td>\n",
              "      <td>1</td>\n",
              "      <td>1</td>\n",
              "      <td>1</td>\n",
              "      <td>1</td>\n",
              "    </tr>\n",
              "    <tr>\n",
              "      <th>503</th>\n",
              "      <td>taskonomy</td>\n",
              "      <td>inpainting</td>\n",
              "      <td>1</td>\n",
              "      <td>1</td>\n",
              "      <td>1</td>\n",
              "      <td>1</td>\n",
              "    </tr>\n",
              "    <tr>\n",
              "      <th>504</th>\n",
              "      <td>taskonomy</td>\n",
              "      <td>jigsaw</td>\n",
              "      <td>1</td>\n",
              "      <td>1</td>\n",
              "      <td>1</td>\n",
              "      <td>1</td>\n",
              "    </tr>\n",
              "    <tr>\n",
              "      <th>505</th>\n",
              "      <td>taskonomy</td>\n",
              "      <td>keypoints2d</td>\n",
              "      <td>1</td>\n",
              "      <td>1</td>\n",
              "      <td>1</td>\n",
              "      <td>1</td>\n",
              "    </tr>\n",
              "    <tr>\n",
              "      <th>506</th>\n",
              "      <td>taskonomy</td>\n",
              "      <td>keypoints3d</td>\n",
              "      <td>1</td>\n",
              "      <td>1</td>\n",
              "      <td>1</td>\n",
              "      <td>1</td>\n",
              "    </tr>\n",
              "    <tr>\n",
              "      <th>507</th>\n",
              "      <td>taskonomy</td>\n",
              "      <td>nonfixated_pose</td>\n",
              "      <td>1</td>\n",
              "      <td>1</td>\n",
              "      <td>1</td>\n",
              "      <td>1</td>\n",
              "    </tr>\n",
              "    <tr>\n",
              "      <th>508</th>\n",
              "      <td>taskonomy</td>\n",
              "      <td>normal</td>\n",
              "      <td>1</td>\n",
              "      <td>1</td>\n",
              "      <td>1</td>\n",
              "      <td>1</td>\n",
              "    </tr>\n",
              "    <tr>\n",
              "      <th>509</th>\n",
              "      <td>taskonomy</td>\n",
              "      <td>point_matching</td>\n",
              "      <td>1</td>\n",
              "      <td>1</td>\n",
              "      <td>1</td>\n",
              "      <td>1</td>\n",
              "    </tr>\n",
              "    <tr>\n",
              "      <th>510</th>\n",
              "      <td>taskonomy</td>\n",
              "      <td>reshading</td>\n",
              "      <td>1</td>\n",
              "      <td>1</td>\n",
              "      <td>1</td>\n",
              "      <td>1</td>\n",
              "    </tr>\n",
              "    <tr>\n",
              "      <th>511</th>\n",
              "      <td>taskonomy</td>\n",
              "      <td>room_layout</td>\n",
              "      <td>1</td>\n",
              "      <td>1</td>\n",
              "      <td>1</td>\n",
              "      <td>1</td>\n",
              "    </tr>\n",
              "    <tr>\n",
              "      <th>512</th>\n",
              "      <td>taskonomy</td>\n",
              "      <td>segment_unsup2d</td>\n",
              "      <td>1</td>\n",
              "      <td>1</td>\n",
              "      <td>1</td>\n",
              "      <td>1</td>\n",
              "    </tr>\n",
              "    <tr>\n",
              "      <th>513</th>\n",
              "      <td>taskonomy</td>\n",
              "      <td>segment_unsup25d</td>\n",
              "      <td>1</td>\n",
              "      <td>1</td>\n",
              "      <td>1</td>\n",
              "      <td>1</td>\n",
              "    </tr>\n",
              "    <tr>\n",
              "      <th>514</th>\n",
              "      <td>taskonomy</td>\n",
              "      <td>segment_semantic</td>\n",
              "      <td>1</td>\n",
              "      <td>1</td>\n",
              "      <td>1</td>\n",
              "      <td>1</td>\n",
              "    </tr>\n",
              "    <tr>\n",
              "      <th>515</th>\n",
              "      <td>taskonomy</td>\n",
              "      <td>vanishing_point</td>\n",
              "      <td>1</td>\n",
              "      <td>1</td>\n",
              "      <td>1</td>\n",
              "      <td>1</td>\n",
              "    </tr>\n",
              "  </tbody>\n",
              "</table>\n",
              "</div>"
            ],
            "text/plain": [
              "        Netset             Model Various visual tasks  \\\n",
              "493  taskonomy      autoencoding                    1   \n",
              "494  taskonomy         curvature                    1   \n",
              "495  taskonomy      class_object                    1   \n",
              "496  taskonomy       class_scene                    1   \n",
              "497  taskonomy         denoising                    1   \n",
              "498  taskonomy   depth_euclidean                    1   \n",
              "499  taskonomy    edge_occlusion                    1   \n",
              "500  taskonomy      edge_texture                    1   \n",
              "501  taskonomy         egomotion                    1   \n",
              "502  taskonomy      fixated_pose                    1   \n",
              "503  taskonomy        inpainting                    1   \n",
              "504  taskonomy            jigsaw                    1   \n",
              "505  taskonomy       keypoints2d                    1   \n",
              "506  taskonomy       keypoints3d                    1   \n",
              "507  taskonomy   nonfixated_pose                    1   \n",
              "508  taskonomy            normal                    1   \n",
              "509  taskonomy    point_matching                    1   \n",
              "510  taskonomy         reshading                    1   \n",
              "511  taskonomy       room_layout                    1   \n",
              "512  taskonomy   segment_unsup2d                    1   \n",
              "513  taskonomy  segment_unsup25d                    1   \n",
              "514  taskonomy  segment_semantic                    1   \n",
              "515  taskonomy   vanishing_point                    1   \n",
              "\n",
              "    Convolutional Neural Network Taskonomy Supervised  \n",
              "493                            1         1          1  \n",
              "494                            1         1          1  \n",
              "495                            1         1          1  \n",
              "496                            1         1          1  \n",
              "497                            1         1          1  \n",
              "498                            1         1          1  \n",
              "499                            1         1          1  \n",
              "500                            1         1          1  \n",
              "501                            1         1          1  \n",
              "502                            1         1          1  \n",
              "503                            1         1          1  \n",
              "504                            1         1          1  \n",
              "505                            1         1          1  \n",
              "506                            1         1          1  \n",
              "507                            1         1          1  \n",
              "508                            1         1          1  \n",
              "509                            1         1          1  \n",
              "510                            1         1          1  \n",
              "511                            1         1          1  \n",
              "512                            1         1          1  \n",
              "513                            1         1          1  \n",
              "514                            1         1          1  \n",
              "515                            1         1          1  "
            ]
          },
          "execution_count": 7,
          "metadata": {},
          "output_type": "execute_result"
        }
      ],
      "source": [
        "find_model_by_dataset(\"Taskonomy\")"
      ]
    },
    {
      "cell_type": "markdown",
      "metadata": {
        "id": "hqDPsOQ2X7TK"
      },
      "source": [
        "The `find_model_by_training_method(attributes)` function helps you discover models based on their training methodology, such as 'Supervised', 'Jigsaw', or 'NPID'."
      ]
    },
    {
      "cell_type": "code",
      "execution_count": 8,
      "metadata": {
        "id": "ReNMFkHwSQI3"
      },
      "outputs": [
        {
          "data": {
            "text/html": [
              "<div>\n",
              "<style scoped>\n",
              "    .dataframe tbody tr th:only-of-type {\n",
              "        vertical-align: middle;\n",
              "    }\n",
              "\n",
              "    .dataframe tbody tr th {\n",
              "        vertical-align: top;\n",
              "    }\n",
              "\n",
              "    .dataframe thead th {\n",
              "        text-align: right;\n",
              "    }\n",
              "</style>\n",
              "<table border=\"1\" class=\"dataframe\">\n",
              "  <thead>\n",
              "    <tr style=\"text-align: right;\">\n",
              "      <th></th>\n",
              "      <th>Netset</th>\n",
              "      <th>Model</th>\n",
              "      <th>Image Classification</th>\n",
              "      <th>Convolutional Neural Network</th>\n",
              "      <th>ImageNet</th>\n",
              "      <th>SimCLR</th>\n",
              "    </tr>\n",
              "  </thead>\n",
              "  <tbody>\n",
              "    <tr>\n",
              "      <th>542</th>\n",
              "      <td>vissl</td>\n",
              "      <td>rn50_in1k_simclr_100ep</td>\n",
              "      <td>1</td>\n",
              "      <td>1</td>\n",
              "      <td>1</td>\n",
              "      <td>1</td>\n",
              "    </tr>\n",
              "    <tr>\n",
              "      <th>543</th>\n",
              "      <td>vissl</td>\n",
              "      <td>rn50_in1k_simclr_200ep</td>\n",
              "      <td>1</td>\n",
              "      <td>1</td>\n",
              "      <td>1</td>\n",
              "      <td>1</td>\n",
              "    </tr>\n",
              "    <tr>\n",
              "      <th>544</th>\n",
              "      <td>vissl</td>\n",
              "      <td>rn50_in1k_simclr_400ep</td>\n",
              "      <td>1</td>\n",
              "      <td>1</td>\n",
              "      <td>1</td>\n",
              "      <td>1</td>\n",
              "    </tr>\n",
              "    <tr>\n",
              "      <th>545</th>\n",
              "      <td>vissl</td>\n",
              "      <td>rn50_in1k_simclr_800ep</td>\n",
              "      <td>1</td>\n",
              "      <td>1</td>\n",
              "      <td>1</td>\n",
              "      <td>1</td>\n",
              "    </tr>\n",
              "    <tr>\n",
              "      <th>546</th>\n",
              "      <td>vissl</td>\n",
              "      <td>rn50_in1k_simclr_1000ep</td>\n",
              "      <td>1</td>\n",
              "      <td>1</td>\n",
              "      <td>1</td>\n",
              "      <td>1</td>\n",
              "    </tr>\n",
              "  </tbody>\n",
              "</table>\n",
              "</div>"
            ],
            "text/plain": [
              "    Netset                    Model Image Classification  \\\n",
              "542  vissl   rn50_in1k_simclr_100ep                    1   \n",
              "543  vissl   rn50_in1k_simclr_200ep                    1   \n",
              "544  vissl   rn50_in1k_simclr_400ep                    1   \n",
              "545  vissl   rn50_in1k_simclr_800ep                    1   \n",
              "546  vissl  rn50_in1k_simclr_1000ep                    1   \n",
              "\n",
              "    Convolutional Neural Network ImageNet SimCLR  \n",
              "542                            1        1      1  \n",
              "543                            1        1      1  \n",
              "544                            1        1      1  \n",
              "545                            1        1      1  \n",
              "546                            1        1      1  "
            ]
          },
          "execution_count": 8,
          "metadata": {},
          "output_type": "execute_result"
        }
      ],
      "source": [
        "find_model_by_training_method(\"SimCLR\")"
      ]
    },
    {
      "cell_type": "markdown",
      "metadata": {
        "id": "WIfluynEX84g"
      },
      "source": [
        "The `find_model_by_visual_task(attributes)` function allows you to search for models specifically trained for a particular visual task, such as 'Object Detection', 'Panoptic Segmentation', or 'Semantic Segmentation'. "
      ]
    },
    {
      "cell_type": "code",
      "execution_count": 9,
      "metadata": {
        "id": "Su3z7_0CSUwf"
      },
      "outputs": [
        {
          "data": {
            "text/html": [
              "<div>\n",
              "<style scoped>\n",
              "    .dataframe tbody tr th:only-of-type {\n",
              "        vertical-align: middle;\n",
              "    }\n",
              "\n",
              "    .dataframe tbody tr th {\n",
              "        vertical-align: top;\n",
              "    }\n",
              "\n",
              "    .dataframe thead th {\n",
              "        text-align: right;\n",
              "    }\n",
              "</style>\n",
              "<table border=\"1\" class=\"dataframe\">\n",
              "  <thead>\n",
              "    <tr style=\"text-align: right;\">\n",
              "      <th></th>\n",
              "      <th>Netset</th>\n",
              "      <th>Model</th>\n",
              "      <th>Panoptic Segmentation</th>\n",
              "      <th>Convolutional Neural Network</th>\n",
              "      <th>COCO</th>\n",
              "      <th>Supervised</th>\n",
              "    </tr>\n",
              "  </thead>\n",
              "  <tbody>\n",
              "    <tr>\n",
              "      <th>583</th>\n",
              "      <td>detectron2</td>\n",
              "      <td>COCO-PanopticSegmentation_-_panoptic_fpn_R_50_...</td>\n",
              "      <td>1</td>\n",
              "      <td>1</td>\n",
              "      <td>1</td>\n",
              "      <td>1</td>\n",
              "    </tr>\n",
              "    <tr>\n",
              "      <th>584</th>\n",
              "      <td>detectron2</td>\n",
              "      <td>COCO-PanopticSegmentation_-_panoptic_fpn_R_50_...</td>\n",
              "      <td>1</td>\n",
              "      <td>1</td>\n",
              "      <td>1</td>\n",
              "      <td>1</td>\n",
              "    </tr>\n",
              "    <tr>\n",
              "      <th>585</th>\n",
              "      <td>detectron2</td>\n",
              "      <td>COCO-PanopticSegmentation_-_panoptic_fpn_R_101...</td>\n",
              "      <td>1</td>\n",
              "      <td>1</td>\n",
              "      <td>1</td>\n",
              "      <td>1</td>\n",
              "    </tr>\n",
              "    <tr>\n",
              "      <th>600</th>\n",
              "      <td>detectron2</td>\n",
              "      <td>Misc_-_panoptic_fpn_R_101_dconv_cascade_gn_3x....</td>\n",
              "      <td>1</td>\n",
              "      <td>1</td>\n",
              "      <td>1</td>\n",
              "      <td>1</td>\n",
              "    </tr>\n",
              "  </tbody>\n",
              "</table>\n",
              "</div>"
            ],
            "text/plain": [
              "         Netset                                              Model  \\\n",
              "583  detectron2  COCO-PanopticSegmentation_-_panoptic_fpn_R_50_...   \n",
              "584  detectron2  COCO-PanopticSegmentation_-_panoptic_fpn_R_50_...   \n",
              "585  detectron2  COCO-PanopticSegmentation_-_panoptic_fpn_R_101...   \n",
              "600  detectron2  Misc_-_panoptic_fpn_R_101_dconv_cascade_gn_3x....   \n",
              "\n",
              "    Panoptic Segmentation Convolutional Neural Network COCO Supervised  \n",
              "583                     1                            1    1          1  \n",
              "584                     1                            1    1          1  \n",
              "585                     1                            1    1          1  \n",
              "600                     1                            1    1          1  "
            ]
          },
          "execution_count": 9,
          "metadata": {},
          "output_type": "execute_result"
        }
      ],
      "source": [
        "find_model_by_visual_task(\"Panoptic Segmentation\")"
      ]
    },
    {
      "cell_type": "markdown",
      "metadata": {
        "id": "5aYEbqWkX-Ui"
      },
      "source": [
        "The `find_model_by_custom([attributes], model_name)` function enables you to search for models based on a combination of the attributes mentioned above. You can provide a list of attributes to filter the models, and optionally specify a particular model name to further refine your search."
      ]
    },
    {
      "cell_type": "code",
      "execution_count": 10,
      "metadata": {
        "id": "wzeDdnGgSZg5"
      },
      "outputs": [
        {
          "data": {
            "text/html": [
              "<div>\n",
              "<style scoped>\n",
              "    .dataframe tbody tr th:only-of-type {\n",
              "        vertical-align: middle;\n",
              "    }\n",
              "\n",
              "    .dataframe tbody tr th {\n",
              "        vertical-align: top;\n",
              "    }\n",
              "\n",
              "    .dataframe thead th {\n",
              "        text-align: right;\n",
              "    }\n",
              "</style>\n",
              "<table border=\"1\" class=\"dataframe\">\n",
              "  <thead>\n",
              "    <tr style=\"text-align: right;\">\n",
              "      <th></th>\n",
              "      <th>Netset</th>\n",
              "      <th>Model</th>\n",
              "      <th>Object Detection</th>\n",
              "      <th>Convolutional Neural Network</th>\n",
              "      <th>COCO</th>\n",
              "      <th>Supervised</th>\n",
              "    </tr>\n",
              "  </thead>\n",
              "  <tbody>\n",
              "    <tr>\n",
              "      <th>557</th>\n",
              "      <td>detectron2</td>\n",
              "      <td>COCO-Detection_-_faster_rcnn_R_50_FPN_1x.yaml</td>\n",
              "      <td>1</td>\n",
              "      <td>1</td>\n",
              "      <td>1</td>\n",
              "      <td>1</td>\n",
              "    </tr>\n",
              "    <tr>\n",
              "      <th>560</th>\n",
              "      <td>detectron2</td>\n",
              "      <td>COCO-Detection_-_faster_rcnn_R_50_FPN_3x.yaml</td>\n",
              "      <td>1</td>\n",
              "      <td>1</td>\n",
              "      <td>1</td>\n",
              "      <td>1</td>\n",
              "    </tr>\n",
              "    <tr>\n",
              "      <th>563</th>\n",
              "      <td>detectron2</td>\n",
              "      <td>COCO-Detection_-_faster_rcnn_R_101_FPN_3x.yaml</td>\n",
              "      <td>1</td>\n",
              "      <td>1</td>\n",
              "      <td>1</td>\n",
              "      <td>1</td>\n",
              "    </tr>\n",
              "    <tr>\n",
              "      <th>564</th>\n",
              "      <td>detectron2</td>\n",
              "      <td>COCO-Detection_-_faster_rcnn_X_101_32x8d_FPN_3...</td>\n",
              "      <td>1</td>\n",
              "      <td>1</td>\n",
              "      <td>1</td>\n",
              "      <td>1</td>\n",
              "    </tr>\n",
              "    <tr>\n",
              "      <th>565</th>\n",
              "      <td>detectron2</td>\n",
              "      <td>COCO-Detection_-_retinanet_R_50_FPN_1x.yaml</td>\n",
              "      <td>1</td>\n",
              "      <td>1</td>\n",
              "      <td>1</td>\n",
              "      <td>1</td>\n",
              "    </tr>\n",
              "    <tr>\n",
              "      <th>566</th>\n",
              "      <td>detectron2</td>\n",
              "      <td>COCO-Detection_-_retinanet_R_50_FPN_3x.yaml</td>\n",
              "      <td>1</td>\n",
              "      <td>1</td>\n",
              "      <td>1</td>\n",
              "      <td>1</td>\n",
              "    </tr>\n",
              "    <tr>\n",
              "      <th>567</th>\n",
              "      <td>detectron2</td>\n",
              "      <td>COCO-Detection_-_retinanet_R_101_FPN_3x.yaml</td>\n",
              "      <td>1</td>\n",
              "      <td>1</td>\n",
              "      <td>1</td>\n",
              "      <td>1</td>\n",
              "    </tr>\n",
              "    <tr>\n",
              "      <th>569</th>\n",
              "      <td>detectron2</td>\n",
              "      <td>COCO-Detection_-_rpn_R_50_FPN_1x.yaml</td>\n",
              "      <td>1</td>\n",
              "      <td>1</td>\n",
              "      <td>1</td>\n",
              "      <td>1</td>\n",
              "    </tr>\n",
              "    <tr>\n",
              "      <th>591</th>\n",
              "      <td>detectron2</td>\n",
              "      <td>Misc_-_mask_rcnn_R_50_FPN_1x_dconv_c3-c5.yaml</td>\n",
              "      <td>1</td>\n",
              "      <td>1</td>\n",
              "      <td>1</td>\n",
              "      <td>1</td>\n",
              "    </tr>\n",
              "    <tr>\n",
              "      <th>592</th>\n",
              "      <td>detectron2</td>\n",
              "      <td>Misc_-_mask_rcnn_R_50_FPN_3x_dconv_c3-c5.yaml</td>\n",
              "      <td>1</td>\n",
              "      <td>1</td>\n",
              "      <td>1</td>\n",
              "      <td>1</td>\n",
              "    </tr>\n",
              "    <tr>\n",
              "      <th>593</th>\n",
              "      <td>detectron2</td>\n",
              "      <td>Misc_-_cascade_mask_rcnn_R_50_FPN_1x.yaml</td>\n",
              "      <td>1</td>\n",
              "      <td>1</td>\n",
              "      <td>1</td>\n",
              "      <td>1</td>\n",
              "    </tr>\n",
              "    <tr>\n",
              "      <th>594</th>\n",
              "      <td>detectron2</td>\n",
              "      <td>Misc_-_cascade_mask_rcnn_R_50_FPN_3x.yaml</td>\n",
              "      <td>1</td>\n",
              "      <td>1</td>\n",
              "      <td>1</td>\n",
              "      <td>1</td>\n",
              "    </tr>\n",
              "    <tr>\n",
              "      <th>595</th>\n",
              "      <td>detectron2</td>\n",
              "      <td>Misc_-_mask_rcnn_R_50_FPN_3x_syncbn.yaml</td>\n",
              "      <td>1</td>\n",
              "      <td>1</td>\n",
              "      <td>1</td>\n",
              "      <td>1</td>\n",
              "    </tr>\n",
              "    <tr>\n",
              "      <th>596</th>\n",
              "      <td>detectron2</td>\n",
              "      <td>Misc_-_mask_rcnn_R_50_FPN_3x_gn.yaml</td>\n",
              "      <td>1</td>\n",
              "      <td>1</td>\n",
              "      <td>1</td>\n",
              "      <td>1</td>\n",
              "    </tr>\n",
              "    <tr>\n",
              "      <th>597</th>\n",
              "      <td>detectron2</td>\n",
              "      <td>Misc_-_scratch_mask_rcnn_R_50_FPN_3x_gn.yaml</td>\n",
              "      <td>1</td>\n",
              "      <td>1</td>\n",
              "      <td>1</td>\n",
              "      <td>1</td>\n",
              "    </tr>\n",
              "    <tr>\n",
              "      <th>598</th>\n",
              "      <td>detectron2</td>\n",
              "      <td>Misc_-_scratch_mask_rcnn_R_50_FPN_9x_gn.yaml</td>\n",
              "      <td>1</td>\n",
              "      <td>1</td>\n",
              "      <td>1</td>\n",
              "      <td>1</td>\n",
              "    </tr>\n",
              "    <tr>\n",
              "      <th>599</th>\n",
              "      <td>detectron2</td>\n",
              "      <td>Misc_-_scratch_mask_rcnn_R_50_FPN_9x_syncbn.yaml</td>\n",
              "      <td>1</td>\n",
              "      <td>1</td>\n",
              "      <td>1</td>\n",
              "      <td>1</td>\n",
              "    </tr>\n",
              "    <tr>\n",
              "      <th>601</th>\n",
              "      <td>detectron2</td>\n",
              "      <td>Misc_-_cascade_mask_rcnn_X_152_32x8d_FPN_IN5k_...</td>\n",
              "      <td>1</td>\n",
              "      <td>1</td>\n",
              "      <td>1</td>\n",
              "      <td>1</td>\n",
              "    </tr>\n",
              "    <tr>\n",
              "      <th>602</th>\n",
              "      <td>detectron2</td>\n",
              "      <td>Detectron1-Comparisons_-_faster_rcnn_R_50_FPN_...</td>\n",
              "      <td>1</td>\n",
              "      <td>1</td>\n",
              "      <td>1</td>\n",
              "      <td>1</td>\n",
              "    </tr>\n",
              "    <tr>\n",
              "      <th>603</th>\n",
              "      <td>detectron2</td>\n",
              "      <td>Detectron1-Comparisons_-_mask_rcnn_R_50_FPN_no...</td>\n",
              "      <td>1</td>\n",
              "      <td>1</td>\n",
              "      <td>1</td>\n",
              "      <td>1</td>\n",
              "    </tr>\n",
              "  </tbody>\n",
              "</table>\n",
              "</div>"
            ],
            "text/plain": [
              "         Netset                                              Model  \\\n",
              "557  detectron2      COCO-Detection_-_faster_rcnn_R_50_FPN_1x.yaml   \n",
              "560  detectron2      COCO-Detection_-_faster_rcnn_R_50_FPN_3x.yaml   \n",
              "563  detectron2     COCO-Detection_-_faster_rcnn_R_101_FPN_3x.yaml   \n",
              "564  detectron2  COCO-Detection_-_faster_rcnn_X_101_32x8d_FPN_3...   \n",
              "565  detectron2        COCO-Detection_-_retinanet_R_50_FPN_1x.yaml   \n",
              "566  detectron2        COCO-Detection_-_retinanet_R_50_FPN_3x.yaml   \n",
              "567  detectron2       COCO-Detection_-_retinanet_R_101_FPN_3x.yaml   \n",
              "569  detectron2              COCO-Detection_-_rpn_R_50_FPN_1x.yaml   \n",
              "591  detectron2      Misc_-_mask_rcnn_R_50_FPN_1x_dconv_c3-c5.yaml   \n",
              "592  detectron2      Misc_-_mask_rcnn_R_50_FPN_3x_dconv_c3-c5.yaml   \n",
              "593  detectron2          Misc_-_cascade_mask_rcnn_R_50_FPN_1x.yaml   \n",
              "594  detectron2          Misc_-_cascade_mask_rcnn_R_50_FPN_3x.yaml   \n",
              "595  detectron2           Misc_-_mask_rcnn_R_50_FPN_3x_syncbn.yaml   \n",
              "596  detectron2               Misc_-_mask_rcnn_R_50_FPN_3x_gn.yaml   \n",
              "597  detectron2       Misc_-_scratch_mask_rcnn_R_50_FPN_3x_gn.yaml   \n",
              "598  detectron2       Misc_-_scratch_mask_rcnn_R_50_FPN_9x_gn.yaml   \n",
              "599  detectron2   Misc_-_scratch_mask_rcnn_R_50_FPN_9x_syncbn.yaml   \n",
              "601  detectron2  Misc_-_cascade_mask_rcnn_X_152_32x8d_FPN_IN5k_...   \n",
              "602  detectron2  Detectron1-Comparisons_-_faster_rcnn_R_50_FPN_...   \n",
              "603  detectron2  Detectron1-Comparisons_-_mask_rcnn_R_50_FPN_no...   \n",
              "\n",
              "    Object Detection Convolutional Neural Network COCO Supervised  \n",
              "557                1                            1    1          1  \n",
              "560                1                            1    1          1  \n",
              "563                1                            1    1          1  \n",
              "564                1                            1    1          1  \n",
              "565                1                            1    1          1  \n",
              "566                1                            1    1          1  \n",
              "567                1                            1    1          1  \n",
              "569                1                            1    1          1  \n",
              "591                1                            1    1          1  \n",
              "592                1                            1    1          1  \n",
              "593                1                            1    1          1  \n",
              "594                1                            1    1          1  \n",
              "595                1                            1    1          1  \n",
              "596                1                            1    1          1  \n",
              "597                1                            1    1          1  \n",
              "598                1                            1    1          1  \n",
              "599                1                            1    1          1  \n",
              "601                1                            1    1          1  \n",
              "602                1                            1    1          1  \n",
              "603                1                            1    1          1  "
            ]
          },
          "execution_count": 10,
          "metadata": {},
          "output_type": "execute_result"
        }
      ],
      "source": [
        "find_model_by_custom([\"COCO\", \"Object Detection\"], model_name=\"fpn\")"
      ]
    },
    {
      "cell_type": "markdown",
      "metadata": {
        "id": "4Q4Eb8lHWT8D"
      },
      "source": [
        "\n",
        "\n",
        "---\n",
        "\n",
        "\n",
        "\n",
        "---\n",
        "\n"
      ]
    },
    {
      "cell_type": "markdown",
      "metadata": {},
      "source": [
        "# Example Study: Predictive capabiltiies of Large Language Models for the Visual Cortex"
      ]
    },
    {
      "cell_type": "markdown",
      "metadata": {},
      "source": [
        "<div style=\"background-color: #3A2F40; padding: 10px; border-radius: 8px;\">\n",
        "    <img src=\"data/Net2Brain_LE_Tutorial.png\" width=\"100%\" />\n",
        "</div>\n"
      ]
    },
    {
      "cell_type": "markdown",
      "metadata": {},
      "source": [
        "In this tutorial, we explore the **intersection of artificial intelligence and neuroscience**, specifically focusing on the **predictive capabilities of Large Language Models (LLMs)** and **Vision Transformers** in relation to the **Visual Cortex** of the human brain.\n",
        "\n",
        "For our experiment we use the **linear encoding module** from **Net2Brain**. The **linear encoding module** splits the image and brain data into training and testing sets. First, it trains a linear regression model on the training split, mapping model activations onto brain data. It then tests the encoding model by using it to predict brain responses to stimuli from the test split, which were not used during training. The predictive ability of the model is assessed by computing the Pearson correlation between the predicted and actual brain responses to the test data, providing a quantitative measure of model performance. This process is repeated for all selected models and layers. Upon completion, the linear encoding module returns a dataframe containing the results, which are ready to be visualized in the next step.\n",
        "\n",
        "By comparing the visual and language components of models like **CLIP**, along with other LLMs, we hope to shed light on well these systems can mimic, or perhaps even elucidate, the operations of the human visual cortex. While it is hypothesized that the visual component of CLIP may demonstrate a stronger correlation with EVC activity due to its direct engagement with visual stimuli, the potential explanatory power of LLMs regarding visual processing, especially in other brain areas, remains an open question.\n"
      ]
    },
    {
      "cell_type": "markdown",
      "metadata": {},
      "source": [
        "# Step 1: Model Selection using Net2Brain’s Taxonomy\n",
        "\n",
        "In this step, we use Net2Brain’s model taxonomy to identify suitable models for our experiment. By applying the taxonomy’s filter functions, we create an initial list of models, which we then refine based on our objective: evaluating how well different large language models (LLMs) predict visual brain activity.\n",
        "\n",
        "1. **Multimodal Model Selection**: To examine models that process both visual and textual inputs, we select CLIP’s ViT-B/32 model. CLIP’s dual-encoder design allows us to separately analyze the contributions of visual and textual information in predicting brain activity.\n",
        "\n",
        "2. **BERT Variants**: We also include two versions of the BERT encoder model—`bert-base-uncased` and `bert-large-cased-whole-word-masking`—which differ in their pre-training tasks. This lets us investigate how different pre-training objectives, specifically whole-word vs. subword prediction, impact brain activity prediction accuracy.\n",
        "\n",
        "3. **Alternative Architecture**: Finally, we add GPT-2, a transformer-based decoder model that generates text by predicting the next word in a sequence. This inclusion allows us to assess if GPT-2’s generative approach and distinct architecture influence its predictive performance for visual brain activity compared to encoder models.\n",
        "\n",
        "This step showcases the flexibility of Net2Brain’s model taxonomy in selecting models aligned with specific experimental goals.\n"
      ]
    },
    {
      "cell_type": "code",
      "execution_count": 10,
      "metadata": {},
      "outputs": [
        {
          "data": {
            "text/html": [
              "<div>\n",
              "<style scoped>\n",
              "    .dataframe tbody tr th:only-of-type {\n",
              "        vertical-align: middle;\n",
              "    }\n",
              "\n",
              "    .dataframe tbody tr th {\n",
              "        vertical-align: top;\n",
              "    }\n",
              "\n",
              "    .dataframe thead th {\n",
              "        text-align: right;\n",
              "    }\n",
              "</style>\n",
              "<table border=\"1\" class=\"dataframe\">\n",
              "  <thead>\n",
              "    <tr style=\"text-align: right;\">\n",
              "      <th></th>\n",
              "      <th>Netset</th>\n",
              "      <th>Model</th>\n",
              "      <th>Image Classification</th>\n",
              "      <th>Convolutional Neural Network</th>\n",
              "      <th>Vision Transformer</th>\n",
              "      <th>Multimodal</th>\n",
              "      <th>ImageNet</th>\n",
              "      <th>Contrastive Language Image Pre-Training</th>\n",
              "    </tr>\n",
              "  </thead>\n",
              "  <tbody>\n",
              "    <tr>\n",
              "      <th>522</th>\n",
              "      <td>clip</td>\n",
              "      <td>RN50</td>\n",
              "      <td>1</td>\n",
              "      <td>1</td>\n",
              "      <td>0</td>\n",
              "      <td>1</td>\n",
              "      <td>1</td>\n",
              "      <td>1</td>\n",
              "    </tr>\n",
              "    <tr>\n",
              "      <th>523</th>\n",
              "      <td>clip</td>\n",
              "      <td>RN101</td>\n",
              "      <td>1</td>\n",
              "      <td>1</td>\n",
              "      <td>0</td>\n",
              "      <td>1</td>\n",
              "      <td>1</td>\n",
              "      <td>1</td>\n",
              "    </tr>\n",
              "    <tr>\n",
              "      <th>524</th>\n",
              "      <td>clip</td>\n",
              "      <td>ViT-B_-_32</td>\n",
              "      <td>1</td>\n",
              "      <td>0</td>\n",
              "      <td>1</td>\n",
              "      <td>1</td>\n",
              "      <td>1</td>\n",
              "      <td>1</td>\n",
              "    </tr>\n",
              "    <tr>\n",
              "      <th>525</th>\n",
              "      <td>clip</td>\n",
              "      <td>ViT-B_-_16</td>\n",
              "      <td>1</td>\n",
              "      <td>0</td>\n",
              "      <td>1</td>\n",
              "      <td>1</td>\n",
              "      <td>1</td>\n",
              "      <td>1</td>\n",
              "    </tr>\n",
              "    <tr>\n",
              "      <th>526</th>\n",
              "      <td>clip</td>\n",
              "      <td>ViT-L_-_14</td>\n",
              "      <td>1</td>\n",
              "      <td>0</td>\n",
              "      <td>1</td>\n",
              "      <td>1</td>\n",
              "      <td>1</td>\n",
              "      <td>1</td>\n",
              "    </tr>\n",
              "  </tbody>\n",
              "</table>\n",
              "</div>"
            ],
            "text/plain": [
              "    Netset       Model Image Classification Convolutional Neural Network  \\\n",
              "522   clip        RN50                    1                            1   \n",
              "523   clip       RN101                    1                            1   \n",
              "524   clip  ViT-B_-_32                    1                            0   \n",
              "525   clip  ViT-B_-_16                    1                            0   \n",
              "526   clip  ViT-L_-_14                    1                            0   \n",
              "\n",
              "    Vision Transformer Multimodal ImageNet  \\\n",
              "522                  0          1        1   \n",
              "523                  0          1        1   \n",
              "524                  1          1        1   \n",
              "525                  1          1        1   \n",
              "526                  1          1        1   \n",
              "\n",
              "    Contrastive Language Image Pre-Training  \n",
              "522                                       1  \n",
              "523                                       1  \n",
              "524                                       1  \n",
              "525                                       1  \n",
              "526                                       1  "
            ]
          },
          "execution_count": 10,
          "metadata": {},
          "output_type": "execute_result"
        }
      ],
      "source": [
        "find_model_by_custom([\"Multimodal\"])"
      ]
    },
    {
      "cell_type": "code",
      "execution_count": null,
      "metadata": {},
      "outputs": [],
      "source": []
    },
    {
      "cell_type": "code",
      "execution_count": 11,
      "metadata": {},
      "outputs": [
        {
          "data": {
            "text/html": [
              "<div>\n",
              "<style scoped>\n",
              "    .dataframe tbody tr th:only-of-type {\n",
              "        vertical-align: middle;\n",
              "    }\n",
              "\n",
              "    .dataframe tbody tr th {\n",
              "        vertical-align: top;\n",
              "    }\n",
              "\n",
              "    .dataframe thead th {\n",
              "        text-align: right;\n",
              "    }\n",
              "</style>\n",
              "<table border=\"1\" class=\"dataframe\">\n",
              "  <thead>\n",
              "    <tr style=\"text-align: right;\">\n",
              "      <th></th>\n",
              "      <th>Netset</th>\n",
              "      <th>Model</th>\n",
              "      <th>Transformer-based Models</th>\n",
              "      <th>COYO-700M</th>\n",
              "      <th>English Corpus</th>\n",
              "    </tr>\n",
              "  </thead>\n",
              "  <tbody>\n",
              "    <tr>\n",
              "      <th>605</th>\n",
              "      <td>Huggingface</td>\n",
              "      <td>albert-base-v2</td>\n",
              "      <td>1</td>\n",
              "      <td>0</td>\n",
              "      <td>1</td>\n",
              "    </tr>\n",
              "    <tr>\n",
              "      <th>606</th>\n",
              "      <td>Huggingface</td>\n",
              "      <td>kakaobrain/align-base</td>\n",
              "      <td>1</td>\n",
              "      <td>1</td>\n",
              "      <td>0</td>\n",
              "    </tr>\n",
              "    <tr>\n",
              "      <th>607</th>\n",
              "      <td>Huggingface</td>\n",
              "      <td>facebook/bart-base</td>\n",
              "      <td>1</td>\n",
              "      <td>0</td>\n",
              "      <td>1</td>\n",
              "    </tr>\n",
              "    <tr>\n",
              "      <th>608</th>\n",
              "      <td>Huggingface</td>\n",
              "      <td>gpt2</td>\n",
              "      <td>1</td>\n",
              "      <td>0</td>\n",
              "      <td>1</td>\n",
              "    </tr>\n",
              "    <tr>\n",
              "      <th>609</th>\n",
              "      <td>Huggingface</td>\n",
              "      <td>bert-large-cased-whole-word-masking</td>\n",
              "      <td>1</td>\n",
              "      <td>0</td>\n",
              "      <td>1</td>\n",
              "    </tr>\n",
              "    <tr>\n",
              "      <th>610</th>\n",
              "      <td>Huggingface</td>\n",
              "      <td>bert-base-uncased</td>\n",
              "      <td>1</td>\n",
              "      <td>0</td>\n",
              "      <td>1</td>\n",
              "    </tr>\n",
              "  </tbody>\n",
              "</table>\n",
              "</div>"
            ],
            "text/plain": [
              "          Netset                                Model  \\\n",
              "605  Huggingface                       albert-base-v2   \n",
              "606  Huggingface                kakaobrain/align-base   \n",
              "607  Huggingface                   facebook/bart-base   \n",
              "608  Huggingface                                 gpt2   \n",
              "609  Huggingface  bert-large-cased-whole-word-masking   \n",
              "610  Huggingface                    bert-base-uncased   \n",
              "\n",
              "    Transformer-based Models COYO-700M English Corpus  \n",
              "605                        1         0              1  \n",
              "606                        1         1              0  \n",
              "607                        1         0              1  \n",
              "608                        1         0              1  \n",
              "609                        1         0              1  \n",
              "610                        1         0              1  "
            ]
          },
          "execution_count": 11,
          "metadata": {},
          "output_type": "execute_result"
        }
      ],
      "source": [
        "find_model_by_custom([\"Transformer-based Models\"])"
      ]
    },
    {
      "cell_type": "markdown",
      "metadata": {},
      "source": [
        "\n",
        "\n",
        "---\n",
        "\n",
        "\n",
        "\n",
        "---\n",
        "\n"
      ]
    },
    {
      "cell_type": "markdown",
      "metadata": {},
      "source": [
        "# Step 2: Downloading the NSD dataset\n",
        "\n",
        "The **Net2Brain** toolbox provides access to a wide array of datasets suitable for various studies. For a comprehensive list of available datasets and their descriptions, please refer to the **Net2Brain dataset notebook**.\n",
        "\n",
        "For our current experiment we will use the **Natural Scenes Dataset (NSD)**. The NSD dataset is known for its rich collection of natural scene images, making it an excellent choice for our comparative study between human brain responses and model activations."
      ]
    },
    {
      "cell_type": "markdown",
      "metadata": {},
      "source": [
        "## Downloading the NSD Dataset"
      ]
    },
    {
      "cell_type": "markdown",
      "metadata": {},
      "source": [
        "The **Net2Brain API** simplifies the process of acquiring datasets. To download the NSD dataset, you can use the following commands within the Net2Brain toolbox:"
      ]
    },
    {
      "cell_type": "code",
      "execution_count": null,
      "metadata": {},
      "outputs": [],
      "source": [
        "Algonauts = DatasetAlgonauts_NSD()\n",
        "available_paths = Algonauts.load_dataset()\n",
        "pprint(available_paths)"
      ]
    },
    {
      "cell_type": "markdown",
      "metadata": {},
      "source": [
        "In this tutorial we only want to conduct our experiment with one subject. Please select the subject of your choice down below"
      ]
    },
    {
      "cell_type": "code",
      "execution_count": null,
      "metadata": {},
      "outputs": [],
      "source": [
        "subject = 1 #@param [1,2,3,4,5,6,7,8]\n"
      ]
    },
    {
      "cell_type": "markdown",
      "metadata": {},
      "source": [
        "Since we will be using LLMs, we will need captions describing the images, that the participants have seen. Luckily NSD is derived from the COCO-Dataset. Net2Brain allows to download the COCO-Cpations via the API."
      ]
    },
    {
      "cell_type": "code",
      "execution_count": null,
      "metadata": {},
      "outputs": [],
      "source": [
        "\n",
        "image_stimuli = available_paths[f\"subj0{subject}_images\"]\n",
        "brain_data = available_paths[f\"subj0{subject}_rois\"]\n",
        "text_stimuli = available_paths[f\"subj0{subject}\"] + \"/training_split/training_text/\"\n",
        "\n",
        "Algonauts.Download_COCO_Captions(image_stimuli, text_stimuli)\n"
      ]
    },
    {
      "cell_type": "markdown",
      "metadata": {},
      "source": [
        "> For a comprehensive tutorial on how to use the datasets API, including details on additional datasets available, please refer to our detailed guide in the following notebook: [Exploring Net2Brain](../0_Exploring_Net2Brain.ipynb).\n"
      ]
    },
    {
      "cell_type": "markdown",
      "metadata": {},
      "source": [
        "## Utilizing precomputed data"
      ]
    },
    {
      "cell_type": "markdown",
      "metadata": {},
      "source": [
        "Given the time-intensive nature of Linear Encoding, especially within a tutorial setting, we recommend using precomputed data to expedite the learning process. (The actual download is further below right after Linear Encoding)"
      ]
    },
    {
      "cell_type": "markdown",
      "metadata": {},
      "source": [
        "\n",
        "\n",
        "---\n",
        "\n",
        "\n",
        "\n",
        "---\n",
        "\n"
      ]
    },
    {
      "cell_type": "markdown",
      "metadata": {},
      "source": [
        "\n",
        "## Step 3: Feature Extraction\n",
        "\n",
        "In this step we are going to extract the features of different Large Language Models (LLMs) and  CLIP's Vision Transformer (ViT), which will be later used to train a Linear Regression Model.\n",
        "\n",
        "### Model Inputs\n",
        "\n",
        "- **Large Language Models**: These models will use the original COCO Captions from the NSD images.\n",
        "- **Vision Models**: These models will use the original NSD (COCO) images, the same ones shown to human participants in the brain studies.\n",
        "\n"
      ]
    },
    {
      "cell_type": "markdown",
      "metadata": {},
      "source": [
        "### Extracting model features using `FeatureExtractor`"
      ]
    },
    {
      "cell_type": "markdown",
      "metadata": {},
      "source": [
        "### Clip ViT-B/32"
      ]
    },
    {
      "cell_type": "code",
      "execution_count": null,
      "metadata": {},
      "outputs": [],
      "source": [
        "from net2brain.feature_extraction import FeatureExtractor\n",
        "extractor = FeatureExtractor(\"ViT-B/32\", \"Clip\", device=\"cpu\")"
      ]
    },
    {
      "cell_type": "markdown",
      "metadata": {},
      "source": [
        "This initializes the feature extractor and loads the model and any specified layers for extraction into the instance. To view the layers that are set to be extracted, you can execute `extractor.layers_to_extract`."
      ]
    },
    {
      "cell_type": "code",
      "execution_count": null,
      "metadata": {},
      "outputs": [],
      "source": [
        "suggested_layers = extractor.layers_to_extract\n",
        "pprint(suggested_layers)"
      ]
    },
    {
      "cell_type": "markdown",
      "metadata": {},
      "source": [
        "Note that the layers we suggested for extraction might not be well-suited for your experiemnts. To view a complete list of all available layers, you can use `extractor.get_all_layers()` and overwrite the `layers_to_extract` attribute with your desired subset."
      ]
    },
    {
      "cell_type": "code",
      "execution_count": null,
      "metadata": {},
      "outputs": [],
      "source": [
        "extractor.get_all_layers()"
      ]
    },
    {
      "cell_type": "markdown",
      "metadata": {},
      "source": [
        "Using this knowledge, we have the option to select the layers we wish to extract from the models."
      ]
    },
    {
      "cell_type": "code",
      "execution_count": null,
      "metadata": {},
      "outputs": [],
      "source": [
        "visual_layers = [\"visual.transformer.resblocks.0\",\n",
        "            \"visual.transformer.resblocks.1\",\n",
        "            \"visual.transformer.resblocks.2\",\n",
        "            \"visual.transformer.resblocks.3\",\n",
        "            \"visual.transformer.resblocks.4\",\n",
        "            \"visual.transformer.resblocks.5\",\n",
        "            \"visual.transformer.resblocks.6\",\n",
        "            \"visual.transformer.resblocks.7\",\n",
        "            \"visual.transformer.resblocks.8\",\n",
        "            \"visual.transformer.resblocks.9\",\n",
        "            \"visual.transformer.resblocks.10\",\n",
        "            \"visual.transformer.resblocks.11\"]\n",
        "\n",
        "text_layers = [\"transformer.resblocks.0\",\n",
        "            \"transformer.resblocks.1\",\n",
        "            \"transformer.resblocks.2\",\n",
        "            \"transformer.resblocks.3\",\n",
        "            \"transformer.resblocks.4\",\n",
        "            \"transformer.resblocks.5\",\n",
        "            \"transformer.resblocks.6\",\n",
        "            \"transformer.resblocks.7\",\n",
        "            \"transformer.resblocks.8\",\n",
        "            \"transformer.resblocks.9\",\n",
        "            \"transformer.resblocks.10\",\n",
        "            \"transformer.resblocks.11\"]"
      ]
    },
    {
      "cell_type": "code",
      "execution_count": null,
      "metadata": {},
      "outputs": [],
      "source": [
        "# Only visual layers\n",
        "extractor = FeatureExtractor(\"ViT-B/32\", \"Clip\", device=\"cpu\")\n",
        "extractor.extract(data_path=image_stimuli, save_path=f\"Tutorial_subj{subject}/clip_vit_b32_vision_feats\", consolidate_per_layer=False, layers_to_extract=visual_layers)\n",
        "\n",
        "# Only text layers:\n",
        "extractor = FeatureExtractor(\"ViT-B/32\", \"Clip\", device=\"cpu\")\n",
        "extractor.extract(data_path=text_stimuli, save_path=f\"Tutorial_subj{subject}/clip_vit_b32_text_feats\", consolidate_per_layer=False, layers_to_extract=text_layers)"
      ]
    },
    {
      "cell_type": "markdown",
      "metadata": {},
      "source": [
        "**Alternative for multimodal models:**\n",
        "\n",
        "Clip takes both text and visual input. You can also create a folder with both stimuli and send the entire folder to CLIP and it will take care of the extraction!"
      ]
    },
    {
      "cell_type": "markdown",
      "metadata": {},
      "source": [
        "### Other models:"
      ]
    },
    {
      "cell_type": "code",
      "execution_count": null,
      "metadata": {},
      "outputs": [],
      "source": [
        "# Bert-base-uncased\n",
        "extractor = FeatureExtractor(\"bert-base-uncased\", \"Huggingface\", device=\"cpu\")\n",
        "extractor.extract(data_path=text_stimuli, save_path=f\"Tutorial_subj{subject}/bert_base_feats\", consolidate_per_layer=False)\n",
        "\n",
        "\n",
        "# Bert-large-uncased\n",
        "extractor = FeatureExtractor(\"bert-large-cased-whole-word-masking\", \"Huggingface\", device=\"cpu\")\n",
        "extractor.extract(data_path=text_stimuli, save_path=f\"Tutorial_subj{subject}/bert_large_whole_word_feats\", consolidate_per_layer=False)\n",
        "\n",
        "\n",
        "# GPT2\n",
        "extractor = FeatureExtractor(\"gpt2\", \"Huggingface\", device=\"cpu\")\n",
        "extractor.extract(data_path=text_stimuli, save_path=f\"Tutorial_subj{subject}/gpt2_feats\", consolidate_per_layer=False)"
      ]
    },
    {
      "cell_type": "markdown",
      "metadata": {},
      "source": [
        "\n",
        "\n",
        "---\n",
        "\n",
        "\n",
        "\n",
        "---\n",
        "\n"
      ]
    },
    {
      "cell_type": "markdown",
      "metadata": {},
      "source": [
        "\n",
        "## Step 4: Evaluation by Linear Encoding\n",
        "\n",
        "In this step, we use Linear Encoding to compare model activations with human fMRI responses to the same images. This method trains a classifier using the model activations to see how well it can predict brain activity it has not seen before. This helps us understand the models' effectiveness in mimicking human brain processes.\n",
        "\n",
        "> **Note**: Due to its computational intensity, Linear Encoding can be time-consuming. For a more efficient tutorial experience, consider using precomputed results from the provided CSV files. You can start the download a few cells further down.\n"
      ]
    },
    {
      "cell_type": "code",
      "execution_count": null,
      "metadata": {},
      "outputs": [],
      "source": [
        "from net2brain.evaluations.encoding import Linear_Encoding"
      ]
    },
    {
      "cell_type": "markdown",
      "metadata": {},
      "source": [
        "This step has been automated to cycle through all available models efficiently."
      ]
    },
    {
      "cell_type": "code",
      "execution_count": null,
      "metadata": {},
      "outputs": [],
      "source": [
        "# Dictionary to loop through all models for which we extracted features from\n",
        "loop_dict = {f\"Tutorial_subj{subject}//bert_base_feats\": \"BERT (LLM)\",\n",
        "             f\"Tutorial_subj{subject}/bert_large_whole_word_feats\": \"BERT - word token (LLM)\",\n",
        "             f\"Tutorial_subj{subject}//gpt2_feats\": \"GPT2 (LLM)\",\n",
        "             f\"Tutorial_subj{subject}/clip_vit_b32_text_feats\": \"CLIP_Text (Multimodal)\",\n",
        "             f\"Tutorial_subj{subject}/clip_vit_b32_vision_feats\": \"CLIP_Vision (Multimodal)\"}\n",
        "\n",
        "\n",
        "\n",
        "# Loop through our models\n",
        "for feat_path, model_name in loop_dict.items():\n",
        "    print(f\"Linear Encoding for {model_name} ...\")\n",
        "\n",
        "    # Call the linear encoding function\n",
        "    results_df_clip = Linear_Encoding(\n",
        "        feat_path=feat_path,\n",
        "        roi_path=brain_data,\n",
        "        model_name=model_name,\n",
        "        trn_tst_split=0.8,\n",
        "        n_folds=3,\n",
        "        n_components=100,\n",
        "        batch_size=100,\n",
        "        random_state=42,\n",
        "        return_correlations=True,\n",
        "        save_path=f\"Tutorial_LE_Results/subj{subject}\"\n",
        "    )"
      ]
    },
    {
      "cell_type": "markdown",
      "metadata": {},
      "source": [
        "--- \n",
        "\n",
        "---"
      ]
    },
    {
      "cell_type": "markdown",
      "metadata": {},
      "source": [
        "### Alternative: Load Precomputed Data"
      ]
    },
    {
      "cell_type": "code",
      "execution_count": 5,
      "metadata": {},
      "outputs": [
        {
          "name": "stdout",
          "output_type": "stream",
          "text": [
            "{'subj1': '/Users/domenicbersch/Documents/Repositories/Net2Brain/notebooks/Workshops/Tutorial_LE_Results/subj1',\n",
            " 'subj2': '/Users/domenicbersch/Documents/Repositories/Net2Brain/notebooks/Workshops/Tutorial_LE_Results/subj2'}\n"
          ]
        }
      ],
      "source": [
        "# Load Precomputed Data\n",
        "precomputed_data = Tutorial_LE_Results()\n",
        "available_paths = precomputed_data.load_dataset()\n",
        "pprint(available_paths)"
      ]
    },
    {
      "cell_type": "code",
      "execution_count": 6,
      "metadata": {},
      "outputs": [],
      "source": [
        "# Code to open the results and format them per ROI\n",
        "def open_results(file_path, roi_category=None):\n",
        "    \"\"\"\n",
        "    Loads a DataFrame from a CSV file and optionally filters it by an ROI category.\n",
        "\n",
        "    Args:\n",
        "    - file_path (str): The path to the CSV file.\n",
        "    - roi_category (str, optional): The category key from roi_mappings to filter by.\n",
        "\n",
        "    Returns:\n",
        "    - pd.DataFrame: The loaded (and optionally filtered) DataFrame.\n",
        "    \"\"\"\n",
        "    # Load the DataFrame from the CSV file\n",
        "    dataframe = pd.read_csv(file_path)\n",
        "    \n",
        "    # If an ROI category is specified, filter the DataFrame\n",
        "    if roi_category:\n",
        "        # Define ROI mappings\n",
        "        roi_mappings = {\n",
        "            'prf-visualrois': ['V1', 'V2', 'V3', 'hV4'], \n",
        "            'floc-bodies': ['EBA', 'FBA-1', 'FBA-2', 'mTL-bodies'],\n",
        "            'floc-faces': ['OFA', 'FFA-1', 'FFA-2', 'mTL-faces', 'aTL-faces'],\n",
        "            'floc-places': ['OPA', 'PPA', 'RSC'],\n",
        "            'floc-words': ['OWFA', 'VWFA-1', 'VWFA-2', 'mfs-words', 'mTL-words']\n",
        "        }\n",
        "        \n",
        "        # Check if the specified category exists in roi_mappings\n",
        "        if roi_category not in roi_mappings:\n",
        "            raise ValueError(f\"Category '{roi_category}' not found in roi_mappings.\")\n",
        "        \n",
        "        # Filter the DataFrame\n",
        "        dataframe = dataframe.loc[dataframe['ROI'].str.split('_').str[0].isin(roi_mappings[roi_category])]\n",
        "    \n",
        "    return dataframe"
      ]
    },
    {
      "cell_type": "code",
      "execution_count": 7,
      "metadata": {},
      "outputs": [],
      "source": [
        "import pandas as pd\n",
        "\n",
        "roi_category = 'prf-visualrois'  # If you want to display the data only for certain brain regions\n",
        "#roi_category = 'floc-bodies'\n",
        "# roi_category = 'floc-faces'\n",
        "# roi_category = 'floc-places'\n",
        "#roi_category = 'floc-words'\n",
        "\n",
        "# Select subject\n",
        "subject = 1 \n",
        "\n",
        "results_df_clip_vision = open_results(f\"Tutorial_LE_Results/subj{subject}/CLIP_Vision (Multimodal).csv\", roi_category)\n",
        "results_df_clip_text = open_results(f\"Tutorial_LE_Results/subj{subject}/CLIP_Text (Multimodal).csv\", roi_category)\n",
        "results_df_bert = open_results(f\"Tutorial_LE_Results/subj{subject}/BERT (LLM).csv\", roi_category)\n",
        "results_df_bert_masking = open_results(f\"Tutorial_LE_Results/subj{subject}/BERT - word token (LLM).csv\", roi_category)\n",
        "results_df_gpt = open_results(f\"Tutorial_LE_Results/subj{subject}/GPT2 (LLM).csv\", roi_category)\n"
      ]
    },
    {
      "cell_type": "markdown",
      "metadata": {},
      "source": [
        "# Step 5: Visualizing Results"
      ]
    },
    {
      "cell_type": "code",
      "execution_count": 8,
      "metadata": {},
      "outputs": [
        {
          "data": {
            "image/png": "[encoded data removed]",
            "text/plain": [
              "<Figure size 1800x800 with 4 Axes>"
            ]
          },
          "metadata": {},
          "output_type": "display_data"
        }
      ],
      "source": [
        "from net2brain.evaluations.plotting import Plotting\n",
        "\n",
        "\n",
        "plotter = Plotting([results_df_clip_vision, \n",
        "                    results_df_clip_text, \n",
        "                    results_df_bert, \n",
        "                    results_df_bert_masking,\n",
        "                    results_df_gpt])\n",
        "\n",
        "results_dataframe = plotter.plot_all_layers(metric=\"R\", columns_per_row=2, simplified_legend=True, rotation=0)"
      ]
    }
  ],
  "metadata": {
    "accelerator": "GPU",
    "colab": {
      "collapsed_sections": [
        "PhXmDhmt6Gd8"
      ],
      "gpuType": "T4",
      "machine_shape": "hm",
      "provenance": []
    },
    "gpuClass": "premium",
    "kernelspec": {
      "display_name": "Python 3",
      "name": "python3"
    },
    "language_info": {
      "codemirror_mode": {
        "name": "ipython",
        "version": 3
      },
      "file_extension": ".py",
      "mimetype": "text/x-python",
      "name": "python",
      "nbconvert_exporter": "python",
      "pygments_lexer": "ipython3",
      "version": "3.10.13"
    }
  },
  "nbformat": 4,
  "nbformat_minor": 0
}
