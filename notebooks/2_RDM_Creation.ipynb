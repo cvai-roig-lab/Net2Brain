{
 "cells": [
  {
   "attachments": {},
   "cell_type": "markdown",
   "metadata": {},
   "source": [
    "# Installing Net2Brain"
   ]
  },
  {
   "cell_type": "markdown",
   "metadata": {},
   "source": [
    "<img src=\"workshops/data/Net2Brain_Logo.png\" width=\"25%\" />"
   ]
  },
  {
   "cell_type": "code",
   "metadata": {},
   "source": [
    "#!pip install -U git+https://github.com/cvai-roig-lab/Net2Brain"
   ],
   "outputs": [],
   "execution_count": null
  },
  {
   "attachments": {},
   "cell_type": "markdown",
   "metadata": {},
   "source": [
    "# Step 2: Creating Representational Dissimilarity Matrices (RDMs) using `RDM Creator`"
   ]
  },
  {
   "attachments": {},
   "cell_type": "markdown",
   "metadata": {},
   "source": [
    "After completing Step 1, where the Feature Extractor extracts features from the specified layers, we can now proceed to Step 2, which involves calculating Representational Dissimilarity Matrices (RDMs) using the RDM Creator's built-in functionality.\n",
    "\n",
    "We first initialize the RDM Creator class, which contains the function to generate RDMs. The RDM Creator class requires the following parameters:\n",
    "- **device**: The device on which the RDMs will be generated. This can be 'cpu' or 'cuda'.\n",
    "- **verbose**: Whether to print the progress of the RDM generation process.\n",
    "\n",
    "To generate RDMs, the RDM Creator function requires:\n",
    "\n",
    "- **feature_path**: The path to the .npz files containing the layer features for each image. These files should have a [Batch x Channel x Height x Width] format.\n",
    "- **save_path** (optional): The location where the generated RDMs will be saved.\n",
    "- **save_format** (optional): The format in which the RDMs will be saved. This can be 'npz' or 'pt'.\n",
    "- **distance** (optional): The distance function to generate the RDMs. Default is the correlation distance.\n",
    "- **standardize_on_dim** (optional): The dimension along which to standardize the features. Default is None.\n",
    "- **chunk_size** (optional): The number of images to be processed at a time. This is useful when the number of images is too large to fit in memory. Default is all images.\n",
    "- **dim_reduction** (optional): Same as in feature extraction. This provides a second point in the pipeline to apply dimensionality reduction (at the feature loading) and it is only possible when features are saved in separate and not consolidated format. Defaults to None.\n",
    "- **n_samples_estim**: Same as in feature extraction.\n",
    "- **n_components** (optional): Same as in feature extraction.\n",
    "- **max_dim_allowed** (optional): Same as in feature extraction.\n",
    "\n",
    "\n",
    "The function will then:\n",
    "\n",
    "- **Output**: Create an RDM with the shape (#Images, #Images) for every specified layer.\n",
    "\n",
    "\n",
    "In this example, we'll be using the AlexNet features generated earlier in the tutorial. The function can be called as follows:"
   ]
  },
  {
   "cell_type": "code",
   "metadata": {},
   "source": [
    "from net2brain.rdm_creation import RDMCreator\n",
    "\n",
    "feat_path = \"AlexNet_Feat\"\n",
    "save_path = \"AlexNet_RDM\"\n",
    "\n",
    "\n",
    "# Call the Class with the path to the features\n",
    "creator = RDMCreator(verbose=True, device='cpu') \n",
    "save_path = creator.create_rdms(feature_path=feat_path, save_path=save_path, save_format='npz') \n",
    "\n",
    "\n",
    "feat_path = \"ResNet50_Feat\"\n",
    "save_path = \"ResNet50_RDM\"\n",
    "\n",
    "\n",
    "# Call the Class with the path to the feautures\n",
    "creator = RDMCreator(device='cpu', verbose=True)  \n",
    "creator.create_rdms(feature_path=feat_path, save_path=save_path, save_format='npz')  # This will create and save the RDMs at the specified save path"
   ],
   "outputs": [],
   "execution_count": null
  },
  {
   "metadata": {},
   "cell_type": "markdown",
   "source": [
    "### Adding dimensionality reduction at the loading stage\n",
    "If you wish you can also reduce the dimensionality of the loaded feautures using:\n",
    "\n",
    "- `srp` (Sparse Random Projection)\n",
    "- `pca` (Principal Component Analysis)\n",
    "\n",
    "This is only possible when the features are saved in separate format. If you want to save the features in \n",
    "consolidated format, and apply dimensionality reduction, it can only be done at the feature extraction stage and not \n",
    "at the loading stage."
   ]
  },
  {
   "metadata": {},
   "cell_type": "code",
   "source": "save_path = creator.create_rdms(feature_path=feat_path, save_path=save_path, save_format='npz', dim_reduction='srp') ",
   "outputs": [],
   "execution_count": null
  },
  {
   "metadata": {},
   "cell_type": "markdown",
   "source": [
    "## Distance functions and normalization\n",
    "\n",
    "The default distance function is the correlation distance. To use a different distance function, we can specify the distance function in the **distance** parameter. The available distance functions can been seen by calling the **distance_functions** method of the RDMCreator. We created synonyms for the distance functions to make it easier to use them (i.e. l2 == euclidean). The available distance functions are:"
   ]
  },
  {
   "cell_type": "code",
   "metadata": {
    "collapsed": false
   },
   "source": [
    "creator.distance_functions()"
   ],
   "outputs": [],
   "execution_count": null
  },
  {
   "cell_type": "markdown",
   "metadata": {
    "collapsed": false
   },
   "source": "You can also use custom distance functions by passing a function to the **distance** parameter. The function should take one argument `x` of shape `(N, D)`, which represents the features (dimension `D`) of the `N` stimuli and return a pairwise distance matrix of shape `(N, N)`. For example, we can use the cosine distance function as follows:"
  },
  {
   "cell_type": "code",
   "metadata": {
    "collapsed": false
   },
   "source": [
    "import torch.nn.functional as F\n",
    "\n",
    "def custom_cosine(x):\n",
    "    x_norm = F.normalize(x, p=2, dim=1)\n",
    "    return 1 - (x_norm @ x_norm.T)\n",
    "\n",
    "creator.create_rdms(feature_path=feat_path, save_path='AlexNet_RDM_custom', save_format='npz', distance=custom_cosine)"
   ],
   "outputs": [],
   "execution_count": null
  },
  {
   "metadata": {},
   "cell_type": "markdown",
   "source": [
    "## Feature standardization \n",
    "\n",
    "The input feature are not standardized by default. To standardize the input features, we can specify the dimension along which to standardize the features using the **standardize_on_dim** parameter. For an input of shape (num_stimuli, num_features) three options are available:\n",
    "- `standardize_on_dim=None`: No standardization is applied.\n",
    "- `standardize_on_dim=0`: Standardize along the first dimension (num_stimuli).\n",
    "- `standardize_on_dim=1`: Standardize along the second dimension (num_features)."
   ]
  },
  {
   "cell_type": "markdown",
   "metadata": {
    "collapsed": false
   },
   "source": [
    "## Accessing and Visualizing RDMs\n",
    "\n",
    "The `LayerRDM` class provides a convenient way to access and visualize the Representational Dissimilarity Matrix (RDM) for a single layer of data. To optimize memory usage, only the upper triangular part of the RDM is stored. The `LayerRDM` class efficiently manages the conversion between this upper triangular format and the full square RDM, and also facilitates visualization."
   ]
  },
  {
   "cell_type": "code",
   "metadata": {
    "collapsed": false
   },
   "source": [
    "from net2brain.rdm_creation import LayerRDM\n",
    "\n",
    "rdm = LayerRDM.from_file(\"AlexNet_RDM/RDM_features_0.npz\")\n",
    "print(\"Class:\", rdm)\n",
    "rdm.plot(indices=[0, 1, 2, 3, 4, 5, 6, 7, 8, 9])"
   ],
   "outputs": [],
   "execution_count": null
  },
  {
   "metadata": {},
   "cell_type": "markdown",
   "source": "The RDM data can be accessed through the `data` attribute, which returns the full square RDM:"
  },
  {
   "metadata": {},
   "cell_type": "code",
   "source": "rdm.data",
   "outputs": [],
   "execution_count": null
  },
  {
   "metadata": {},
   "cell_type": "markdown",
   "source": [
    "## RDMs of arbitrary data\n",
    "\n",
    "The functional API provides a straightforward way to calculate the RDM for any arbitrary data. The `dist` function from ` net2brain.rdm.dist_utils` is designed to handle this process efficiently, supporting both individual feature matrices and batches of feature matrices. Key features of this function include:\n",
    "\n",
    "   - **Sanity Checks**: Ensures that inputs are valid and correctly formatted.\n",
    "   - **Data Types and Devices**: Automatically handles appropriate data types and computational devices.\n",
    "   - **Chunking**: Efficiently processes large datasets by breaking them into smaller chunks.\n",
    "\n",
    "For users who only need to calculate the distance, the raw function can be accessed directly from `net2brain.rdm.dist`."
   ]
  },
  {
   "metadata": {},
   "cell_type": "code",
   "source": [
    "import torch\n",
    "from net2brain.rdm.dist_utils import dist\n",
    "from net2brain.rdm.dist import correlation\n",
    "\n",
    "# Generate random example data\n",
    "N, D = 10, 100\n",
    "feature = torch.rand(N, D)\n",
    "\n",
    "# Calculate RDM\n",
    "raw_rdm = dist(feature, metric=\"correlation\", chunk_size=None, verbose=True, device='cpu')\n",
    "# or\n",
    "raw_rdm = correlation(feature)\n",
    "\n",
    "print(\"Shape of RDM (N x N):\", raw_rdm.shape)"
   ],
   "outputs": [],
   "execution_count": null
  },
  {
   "metadata": {},
   "cell_type": "code",
   "source": "",
   "outputs": [],
   "execution_count": null
  }
 ],
 "metadata": {
  "kernelspec": {
   "display_name": "N2B",
   "language": "python",
   "name": "python3"
  },
  "language_info": {
   "codemirror_mode": {
    "name": "ipython",
    "version": 3
   },
   "file_extension": ".py",
   "mimetype": "text/x-python",
   "name": "python",
   "nbconvert_exporter": "python",
   "pygments_lexer": "ipython3",
   "version": "3.10.13"
  },
  "orig_nbformat": 4,
  "vscode": {
   "interpreter": {
    "hash": "2143370df03d7e8d8afb3cb32a8181ea228f5a6f13a304f592978240ae0036e6"
   }
  }
 },
 "nbformat": 4,
 "nbformat_minor": 2
}
